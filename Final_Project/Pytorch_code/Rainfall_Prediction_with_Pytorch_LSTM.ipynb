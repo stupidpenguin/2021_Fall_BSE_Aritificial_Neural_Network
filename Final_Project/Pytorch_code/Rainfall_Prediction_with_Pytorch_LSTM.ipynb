{
 "cells": [
  {
   "cell_type": "code",
   "execution_count": null,
   "outputs": [],
   "source": [
    "''' Hyper parameter '''\n",
    "LEARNING_RATE = 0.001\n",
    "SAMPLE_LENGTH = 12\n",
    "PREDICT_LENGTH = 6\n",
    "BATCH_SIZE = 32"
   ],
   "metadata": {
    "collapsed": false,
    "pycharm": {
     "name": "#%%\n"
    }
   }
  },
  {
   "cell_type": "code",
   "execution_count": null,
   "outputs": [],
   "source": [
    "import torch\n",
    "import torch.nn as nn\n",
    "import torch.nn.functional as F\n",
    "import torch.optim as optim\n",
    "import pandas as pd\n",
    "import matplotlib.pyplot as plt\n",
    "import torch.utils.data as Data\n",
    "import numpy as np"
   ],
   "metadata": {
    "collapsed": false,
    "pycharm": {
     "name": "#%%\n"
    }
   }
  },
  {
   "cell_type": "code",
   "execution_count": null,
   "outputs": [],
   "source": [
    "# Device configuration\n",
    "device = torch.device('cuda' if torch.cuda.is_available() else 'cpu')\n",
    "\n",
    "# Hyper-parameters\n",
    "# input_size = 784 # 28x28\n",
    "num_classes = 10\n",
    "num_epochs = 2\n",
    "batch_size = 100\n",
    "learning_rate = 0.001\n",
    "\n",
    "input_size = 28\n",
    "sequence_length = 28\n",
    "hidden_size = 128\n",
    "num_layers = 2"
   ],
   "metadata": {
    "collapsed": false,
    "pycharm": {
     "name": "#%%\n"
    }
   }
  },
  {
   "cell_type": "code",
   "execution_count": null,
   "outputs": [],
   "source": [
    "''' 數據預處理，將數據整理成 DataLoader 可讀取之格式 '''\n",
    "\n",
    "\n",
    "pop_index = 7\n",
    "\n",
    "import os\n",
    "target_folder_path = '../data/event/Siou_Luan'\n",
    "list_of_all_file = os.listdir(target_folder_path)\n",
    "\n",
    "print(list_of_all_file)\n",
    "test_seq_path = list_of_all_file.pop(pop_index)\n",
    "print(list_of_all_file)"
   ],
   "metadata": {
    "collapsed": false,
    "pycharm": {
     "name": "#%%\n"
    }
   }
  },
  {
   "cell_type": "code",
   "execution_count": null,
   "outputs": [],
   "source": [
    "print(len(list_of_all_file))"
   ],
   "metadata": {
    "collapsed": false,
    "pycharm": {
     "name": "#%%\n"
    }
   }
  },
  {
   "cell_type": "code",
   "execution_count": null,
   "outputs": [],
   "source": [
    "sample_length = SAMPLE_LENGTH\n",
    "predict_length = PREDICT_LENGTH\n",
    "\n",
    "train_seq = []\n",
    "train_seq_label_seq = []\n",
    "\n",
    "for file_index in range(len(list_of_all_file)):\n",
    "    print(list_of_all_file[file_index])\n",
    "    target_df = pd.read_csv('../data/event/Siou_Luan_Ver2/'+str(list_of_all_file[file_index]))\n",
    "    target_df['Time'] = pd.to_datetime(target_df['Time'])\n",
    "\n",
    "    '''將降雨量/流量 標準化'''\n",
    "    df_dimension = int(target_df.shape[0])\n",
    "    Y = target_df[['rain_白石']]\n",
    "    # scaler = MinMaxScaler(feature_range=(0, 1)).fit(Y)\n",
    "    # Y = scaler.transform(Y)\n",
    "\n",
    "    Z = target_df[['Flow']]\n",
    "    # scaler = MinMaxScaler(feature_range=(0, 1)).fit(Z)\n",
    "    # Z = scaler.transform(Z)\n",
    "\n",
    "    X = target_df[['Time']]\n",
    "    plt.plot(X, Y)\n",
    "    # plt.plot(X, Z)\n",
    "    plt.show()\n",
    "\n",
    "    for i in range(len(Y)):\n",
    "        if i+sample_length+predict_length < len(Y)+1:\n",
    "            train_seq.append(Y[i:i+sample_length])\n",
    "            train_seq_label_seq.append(Z[i+sample_length:i+sample_length+predict_length])"
   ],
   "metadata": {
    "collapsed": false,
    "pycharm": {
     "name": "#%%\n"
    }
   }
  },
  {
   "cell_type": "code",
   "execution_count": null,
   "outputs": [],
   "source": [
    "train_seq_label_seq = np.array(train_seq_label_seq)\n",
    "train_seq = np.array(train_seq)"
   ],
   "metadata": {
    "collapsed": false,
    "pycharm": {
     "name": "#%%\n"
    }
   }
  },
  {
   "cell_type": "code",
   "execution_count": null,
   "outputs": [],
   "source": [
    "''' 設定 Dataset '''\n",
    "train_seq = torch.tensor(train_seq)\n",
    "train_seq_label_seq = torch.tensor(train_seq_label_seq)\n",
    "torch_dataset = Data.TensorDataset(train_seq, train_seq_label_seq)"
   ],
   "metadata": {
    "collapsed": false,
    "pycharm": {
     "name": "#%%\n"
    }
   }
  },
  {
   "cell_type": "code",
   "execution_count": null,
   "outputs": [],
   "source": [
    "''' 設定 DataLoader '''\n",
    "from torch.utils.data import Dataset, DataLoader\n",
    "from torchvision import transforms, utils\n",
    "\n",
    "dataloader = Data.DataLoader(\n",
    "    dataset=torch_dataset,\n",
    "    batch_size=BATCH_SIZE,\n",
    "    shuffle=True,\n",
    "    num_workers=8\n",
    ")\n",
    "\n",
    "def show_batch():\n",
    "    for epoch in range(1):\n",
    "        for step, (batch_x, batch_y) in enumerate(dataloader):\n",
    "            print(\"step:{}\\nbatch_x:{}\\nbatch_y:{}\".format(step, batch_x, batch_y))\n",
    "# x: 12 x 1\n",
    "# y: 6 x 1\n",
    "if __name__ == '__main__':\n",
    "    show_batch()"
   ],
   "metadata": {
    "collapsed": false,
    "pycharm": {
     "name": "#%%\n"
    }
   }
  },
  {
   "cell_type": "code",
   "execution_count": null,
   "outputs": [],
   "source": [
    "class LSTM(nn.Module):\n",
    "    def __init__(self, input_size, hidden_size, num_layers, num_classes):\n",
    "        super(LSTM, self).__init__()\n",
    "\n",
    "        self.input_size = input_size\n",
    "        self.num_layers = num_layers\n",
    "        self.hidden_size = hidden_size\n",
    "        self.lstm = nn.LSTM(input_size = self.input_size,\n",
    "                            hidden_size = self.hidden_size,\n",
    "                            num_layers = self.num_layers,\n",
    "                            batch_first=True)\n",
    "        # -> x needs to be: (batch_size, seq, input_size)\n",
    "\n",
    "        # or:\n",
    "        # self.rnn = nn.RNN(input_size, hidden_size, num_layers, batch_first=True)\n",
    "        #self.gru = nn.GRU(input_size, hidden_size, num_layers, batch_first=True)\n",
    "\n",
    "        # self.fc = nn.Linear(hidden_size, num_classes)\n",
    "        \n",
    "\n",
    "    def forward(self, x):\n",
    "        # Set initial hidden states (and cell states for LSTM)\n",
    "        h0 = torch.zeros(self.num_layers, x.size(0), self.hidden_size).to(device)\n",
    "        #c0 = torch.zeros(self.num_layers, x.size(0), self.hidden_size).to(device)\n",
    "\n",
    "        # x: (n, 28, 28), h0: (2, n, 128)\n",
    "\n",
    "        # Forward propagate RNN\n",
    "        out, _ = self.lstm(x, h0)\n",
    "        # or:\n",
    "        #out, _ = self.lstm(x, (h0,c0))\n",
    "\n",
    "        # out: tensor of shape (batch_size, seq_length, hidden_size)\n",
    "        # out: (n, 28, 128)\n",
    "\n",
    "        # Decode the hidden state of the last time step\n",
    "        out = out[:, -1, :]\n",
    "        # out: (n, 128)\n",
    "\n",
    "        out = self.fc(out)\n",
    "        # out: (n, 10)\n",
    "        return out"
   ],
   "metadata": {
    "collapsed": false,
    "pycharm": {
     "name": "#%%\n"
    }
   }
  },
  {
   "cell_type": "code",
   "execution_count": null,
   "outputs": [],
   "source": [
    "model = LSTM()"
   ],
   "metadata": {
    "collapsed": false,
    "pycharm": {
     "name": "#%%\n"
    }
   }
  },
  {
   "cell_type": "code",
   "execution_count": null,
   "outputs": [],
   "source": [
    "''' 模型訓練階段 '''\n",
    "criterion = nn.MSELoss()\n",
    "optimizer = optim.Adam(model.parameters(), lr = LEARNING_RATE)"
   ],
   "metadata": {
    "collapsed": false,
    "pycharm": {
     "name": "#%%\n"
    }
   }
  }
 ],
 "metadata": {
  "kernelspec": {
   "display_name": "Python 3",
   "language": "python",
   "name": "python3"
  },
  "language_info": {
   "codemirror_mode": {
    "name": "ipython",
    "version": 2
   },
   "file_extension": ".py",
   "mimetype": "text/x-python",
   "name": "python",
   "nbconvert_exporter": "python",
   "pygments_lexer": "ipython2",
   "version": "2.7.6"
  }
 },
 "nbformat": 4,
 "nbformat_minor": 0
}