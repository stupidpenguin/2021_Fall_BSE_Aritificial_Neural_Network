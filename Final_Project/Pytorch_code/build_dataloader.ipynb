{
 "cells": [
  {
   "cell_type": "markdown",
   "metadata": {
    "collapsed": true,
    "pycharm": {
     "name": "#%% md\n"
    }
   },
   "source": [
    "https://www.itread01.com/content/1547127786.html\n",
    "\n",
    "#### 如何創建自己的 Dataloader\n",
    "https://blog.csdn.net/york1996/article/details/84141034"
   ]
  },
  {
   "cell_type": "markdown",
   "source": [
    "### Pytorch Dataloader 參數意義：\n",
    "* dataset，这个就是PyTorch已有的数据读取接口（比如torchvision.datasets.ImageFolder）或者自定义的数据接口的输出，该输出要么是torch.utils.data.Dataset类的对象，要么是继承自torch.utils.data.Dataset类的自定义类的对象。\n",
    "* batch_size，根据具体情况设置即可。\n",
    "* shuffle，一般在训练数据中会采用。\n",
    "* collate_fn，是用来处理不同情况下的输入dataset的封装，一般采用默认即可，除非你自定义的数据读取输出非常少见。\n",
    "* batch_sampler，从注释可以看出，其和batch_size、shuffle等参数是互斥的，一般采用默认。\n",
    "* sampler，从代码可以看出，其和shuffle是互斥的，一般默认即可。\n",
    "* num_workers，从注释可以看出这个参数必须大于等于0，0的话表示数据导入在主进程中进行，其他大于0的数表示通过多个进程来导入数据，可以加快数据导入速度。\n",
    "* pin_memory，注释写得很清楚了： pin_memory (bool, optional): If True, the data loader will copy tensors into CUDA pinned memory before returning them. 也就是一个数据拷贝的问题。\n",
    "* timeout，是用来设置数据读取的超时时间的，但超过这个时间还没读取到数据的话就会报错。"
   ],
   "metadata": {
    "collapsed": false,
    "pycharm": {
     "name": "#%% md\n"
    }
   }
  },
  {
   "cell_type": "code",
   "execution_count": 61,
   "outputs": [],
   "source": [
    "import torch\n",
    "from torch.utils.data import Dataset\n",
    "from torch.utils.data import DataLoader\n",
    "from torch.utils import data\n",
    "import tensorflow as tf\n",
    "import random\n",
    "import numpy as np\n",
    "random.seed(1461)"
   ],
   "metadata": {
    "collapsed": false,
    "pycharm": {
     "name": "#%%\n"
    }
   }
  },
  {
   "cell_type": "code",
   "execution_count": 69,
   "outputs": [
    {
     "name": "stdout",
     "output_type": "stream",
     "text": [
      "x: tensor([[5., 1.],\n",
      "        [3., 2.],\n",
      "        [0., 7.],\n",
      "        [2., 8.],\n",
      "        [5., 7.],\n",
      "        [7., 4.],\n",
      "        [2., 0.],\n",
      "        [2., 2.],\n",
      "        [2., 8.],\n",
      "        [7., 8.]])\n",
      "y: tensor([9., 8., 7., 6., 5., 4., 3., 2., 1., 0.])\n"
     ]
    }
   ],
   "source": [
    "BATCH_SIZE = 5\n",
    "\n",
    "x = np.random.randint(0, 9, size=(10, 2))\n",
    "x = torch.Tensor(x)\n",
    "y = torch.linspace(9, 0, 10)\n",
    "print(f'x: {x}')\n",
    "print(f'y: {y}')"
   ],
   "metadata": {
    "collapsed": false,
    "pycharm": {
     "name": "#%%\n"
    }
   }
  },
  {
   "cell_type": "code",
   "execution_count": 70,
   "outputs": [],
   "source": [
    "'''先轉換成 torch 能事別的 Dataset '''\n",
    "torch_dataset = data.TensorDataset(x, y)"
   ],
   "metadata": {
    "collapsed": false,
    "pycharm": {
     "name": "#%%\n"
    }
   }
  },
  {
   "cell_type": "code",
   "execution_count": 47,
   "outputs": [
    {
     "data": {
      "text/plain": "torch.utils.data.dataset.TensorDataset"
     },
     "execution_count": 47,
     "metadata": {},
     "output_type": "execute_result"
    }
   ],
   "source": [
    "''' 觀察資料型別 '''\n",
    "type(torch_dataset)"
   ],
   "metadata": {
    "collapsed": false,
    "pycharm": {
     "name": "#%%\n"
    }
   }
  },
  {
   "cell_type": "code",
   "execution_count": 48,
   "outputs": [
    {
     "data": {
      "text/plain": "torch.Tensor"
     },
     "execution_count": 48,
     "metadata": {},
     "output_type": "execute_result"
    }
   ],
   "source": [
    "type(x)"
   ],
   "metadata": {
    "collapsed": false,
    "pycharm": {
     "name": "#%%\n"
    }
   }
  },
  {
   "cell_type": "code",
   "execution_count": 73,
   "outputs": [],
   "source": [
    "''' 把 dataset 放入 DataLoader '''\n",
    "loader = data.DataLoader(\n",
    "    dataset = torch_dataset,\n",
    "    batch_size= BATCH_SIZE,\n",
    "    shuffle= True,\n",
    "    num_workers= 8,\n",
    "    drop_last= True\n",
    ")\n"
   ],
   "metadata": {
    "collapsed": false,
    "pycharm": {
     "name": "#%%\n"
    }
   }
  },
  {
   "cell_type": "code",
   "execution_count": 50,
   "outputs": [
    {
     "name": "stdout",
     "output_type": "stream",
     "text": [
      "Epoch: 0 | num: 1 | batch_x: tensor([8., 9., 4., 3., 5.]) | batch_y: tensor([1., 0., 5., 6., 4.])\n",
      "Epoch: 0 | num: 2 | batch_x: tensor([7., 2., 0., 6., 1.]) | batch_y: tensor([2., 7., 9., 3., 8.])\n",
      "Epoch: 1 | num: 1 | batch_x: tensor([6., 2., 4., 1., 7.]) | batch_y: tensor([3., 7., 5., 8., 2.])\n",
      "Epoch: 1 | num: 2 | batch_x: tensor([3., 5., 0., 8., 9.]) | batch_y: tensor([6., 4., 9., 1., 0.])\n",
      "Epoch: 2 | num: 1 | batch_x: tensor([2., 6., 3., 4., 5.]) | batch_y: tensor([7., 3., 6., 5., 4.])\n",
      "Epoch: 2 | num: 2 | batch_x: tensor([7., 1., 0., 9., 8.]) | batch_y: tensor([2., 8., 9., 0., 1.])\n",
      "Epoch: 3 | num: 1 | batch_x: tensor([6., 7., 2., 4., 1.]) | batch_y: tensor([3., 2., 7., 5., 8.])\n",
      "Epoch: 3 | num: 2 | batch_x: tensor([0., 5., 9., 3., 8.]) | batch_y: tensor([9., 4., 0., 6., 1.])\n",
      "Epoch: 4 | num: 1 | batch_x: tensor([1., 5., 7., 3., 2.]) | batch_y: tensor([8., 4., 2., 6., 7.])\n",
      "Epoch: 4 | num: 2 | batch_x: tensor([9., 8., 6., 0., 4.]) | batch_y: tensor([0., 1., 3., 9., 5.])\n"
     ]
    }
   ],
   "source": [
    "for epoch in range(5):\n",
    "    i = 0\n",
    "    for batch_x, batch_y in loader:\n",
    "        i = i + 1\n",
    "        print('Epoch: {} | num: {} | batch_x: {} | batch_y: {}'\n",
    "              .format(epoch, i, batch_x, batch_y))\n",
    "        "
   ],
   "metadata": {
    "collapsed": false,
    "pycharm": {
     "name": "#%%\n"
    }
   }
  },
  {
   "cell_type": "code",
   "execution_count": 74,
   "outputs": [
    {
     "name": "stdout",
     "output_type": "stream",
     "text": [
      "Epoch: 0 | num: 1 | batch_x: tensor([[2., 2.],\n",
      "        [2., 8.],\n",
      "        [7., 4.],\n",
      "        [5., 1.],\n",
      "        [3., 2.]]) | batch_y: tensor([2., 1., 4., 9., 8.])\n",
      "Epoch: 0 | num: 2 | batch_x: tensor([[2., 8.],\n",
      "        [5., 7.],\n",
      "        [2., 0.],\n",
      "        [7., 8.],\n",
      "        [0., 7.]]) | batch_y: tensor([6., 5., 3., 0., 7.])\n",
      "Epoch: 1 | num: 1 | batch_x: tensor([[5., 7.],\n",
      "        [7., 8.],\n",
      "        [7., 4.],\n",
      "        [2., 8.],\n",
      "        [5., 1.]]) | batch_y: tensor([5., 0., 4., 6., 9.])\n",
      "Epoch: 1 | num: 2 | batch_x: tensor([[2., 8.],\n",
      "        [0., 7.],\n",
      "        [2., 0.],\n",
      "        [2., 2.],\n",
      "        [3., 2.]]) | batch_y: tensor([1., 7., 3., 2., 8.])\n",
      "Epoch: 2 | num: 1 | batch_x: tensor([[2., 8.],\n",
      "        [0., 7.],\n",
      "        [2., 0.],\n",
      "        [2., 8.],\n",
      "        [7., 4.]]) | batch_y: tensor([1., 7., 3., 6., 4.])\n",
      "Epoch: 2 | num: 2 | batch_x: tensor([[5., 7.],\n",
      "        [3., 2.],\n",
      "        [2., 2.],\n",
      "        [5., 1.],\n",
      "        [7., 8.]]) | batch_y: tensor([5., 8., 2., 9., 0.])\n"
     ]
    }
   ],
   "source": [
    "for epoch in range(3):\n",
    "    i = 0\n",
    "    ''' 每一步 loader 釋放一小批數據用來學習 '''\n",
    "    for step, (batch_x, batch_y) in enumerate(loader):\n",
    "        ''' 假設這是我們訓練的地方... '''\n",
    "        i = i + 1\n",
    "        ''' 列印一些數據 '''\n",
    "        print('Epoch: {} | num: {} | batch_x: {} | batch_y: {}'\n",
    "              .format(epoch, i, batch_x, batch_y))"
   ],
   "metadata": {
    "collapsed": false,
    "pycharm": {
     "name": "#%%\n"
    }
   }
  },
  {
   "cell_type": "markdown",
   "source": [
    "---\n",
    "\n",
    "https://stackoverflow.com/questions/62055185/print-the-values-of-torch-data-dataset-object\n",
    "\n",
    "''' 如何列印出 Dataloader 中的內容 '''\n",
    "```print(list(loader))```"
   ],
   "metadata": {
    "collapsed": false,
    "pycharm": {
     "name": "#%% md\n"
    }
   }
  }
 ],
 "metadata": {
  "kernelspec": {
   "display_name": "Python 3",
   "language": "python",
   "name": "python3"
  },
  "language_info": {
   "codemirror_mode": {
    "name": "ipython",
    "version": 2
   },
   "file_extension": ".py",
   "mimetype": "text/x-python",
   "name": "python",
   "nbconvert_exporter": "python",
   "pygments_lexer": "ipython2",
   "version": "2.7.6"
  }
 },
 "nbformat": 4,
 "nbformat_minor": 0
}