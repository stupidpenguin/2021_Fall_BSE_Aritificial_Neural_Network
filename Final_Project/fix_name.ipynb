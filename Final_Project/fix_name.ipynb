{
 "cells": [
  {
   "cell_type": "code",
   "execution_count": 10,
   "metadata": {
    "collapsed": true
   },
   "outputs": [],
   "source": [
    "import pandas as pd\n",
    "import os\n",
    "import matplotlib.pyplot as plt"
   ]
  },
  {
   "cell_type": "code",
   "execution_count": null,
   "outputs": [],
   "source": [
    "target_folder_path = 'data/event/Leng_Jiao'\n",
    "list_of_all_files = os.listdir(target_folder_path)"
   ],
   "metadata": {
    "collapsed": false,
    "pycharm": {
     "name": "#%%\n"
    }
   }
  },
  {
   "cell_type": "code",
   "execution_count": null,
   "outputs": [],
   "source": [
    "list_of_all_files"
   ],
   "metadata": {
    "collapsed": false,
    "pycharm": {
     "name": "#%%\n"
    }
   }
  },
  {
   "cell_type": "code",
   "execution_count": null,
   "outputs": [],
   "source": [
    "for file_index in range(len(list_of_all_files)):\n",
    "    print(list_of_all_files[file_index])\n",
    "    target_df = pd.read_csv(os.path.join(target_folder_path, list_of_all_files[file_index]))\n",
    "    print(target_df)"
   ],
   "metadata": {
    "collapsed": false,
    "pycharm": {
     "name": "#%%\n"
    }
   }
  },
  {
   "cell_type": "code",
   "execution_count": 105,
   "outputs": [
    {
     "data": {
      "text/plain": "                   Time  rain_鎮西堡  rain_白石  rain_秀巒  Flow\n0   2010-05-23 00:00:00       0.0      0.0      0.0  2.75\n1   2010-05-23 01:00:00       0.0      0.0      0.0  2.75\n2   2010-05-23 02:00:00       0.0      0.0      0.0  2.75\n3   2010-05-23 03:00:00       0.0      0.0      0.0  2.75\n4   2010-05-23 04:00:00       0.0      0.0      0.0  2.75\n..                  ...       ...      ...      ...   ...\n56  2010-05-25 08:00:00       0.0      0.0      0.0  4.32\n57  2010-05-25 09:00:00       0.0      0.0      0.0  4.32\n58  2010-05-25 10:00:00       0.0      0.0      0.0  4.17\n59  2010-05-25 11:00:00       0.0      0.0      0.0  4.17\n60  2010-05-25 12:00:00       0.0      0.0      0.0  4.17\n\n[61 rows x 5 columns]",
      "text/html": "<div>\n<style scoped>\n    .dataframe tbody tr th:only-of-type {\n        vertical-align: middle;\n    }\n\n    .dataframe tbody tr th {\n        vertical-align: top;\n    }\n\n    .dataframe thead th {\n        text-align: right;\n    }\n</style>\n<table border=\"1\" class=\"dataframe\">\n  <thead>\n    <tr style=\"text-align: right;\">\n      <th></th>\n      <th>Time</th>\n      <th>rain_鎮西堡</th>\n      <th>rain_白石</th>\n      <th>rain_秀巒</th>\n      <th>Flow</th>\n    </tr>\n  </thead>\n  <tbody>\n    <tr>\n      <th>0</th>\n      <td>2010-05-23 00:00:00</td>\n      <td>0.0</td>\n      <td>0.0</td>\n      <td>0.0</td>\n      <td>2.75</td>\n    </tr>\n    <tr>\n      <th>1</th>\n      <td>2010-05-23 01:00:00</td>\n      <td>0.0</td>\n      <td>0.0</td>\n      <td>0.0</td>\n      <td>2.75</td>\n    </tr>\n    <tr>\n      <th>2</th>\n      <td>2010-05-23 02:00:00</td>\n      <td>0.0</td>\n      <td>0.0</td>\n      <td>0.0</td>\n      <td>2.75</td>\n    </tr>\n    <tr>\n      <th>3</th>\n      <td>2010-05-23 03:00:00</td>\n      <td>0.0</td>\n      <td>0.0</td>\n      <td>0.0</td>\n      <td>2.75</td>\n    </tr>\n    <tr>\n      <th>4</th>\n      <td>2010-05-23 04:00:00</td>\n      <td>0.0</td>\n      <td>0.0</td>\n      <td>0.0</td>\n      <td>2.75</td>\n    </tr>\n    <tr>\n      <th>...</th>\n      <td>...</td>\n      <td>...</td>\n      <td>...</td>\n      <td>...</td>\n      <td>...</td>\n    </tr>\n    <tr>\n      <th>56</th>\n      <td>2010-05-25 08:00:00</td>\n      <td>0.0</td>\n      <td>0.0</td>\n      <td>0.0</td>\n      <td>4.32</td>\n    </tr>\n    <tr>\n      <th>57</th>\n      <td>2010-05-25 09:00:00</td>\n      <td>0.0</td>\n      <td>0.0</td>\n      <td>0.0</td>\n      <td>4.32</td>\n    </tr>\n    <tr>\n      <th>58</th>\n      <td>2010-05-25 10:00:00</td>\n      <td>0.0</td>\n      <td>0.0</td>\n      <td>0.0</td>\n      <td>4.17</td>\n    </tr>\n    <tr>\n      <th>59</th>\n      <td>2010-05-25 11:00:00</td>\n      <td>0.0</td>\n      <td>0.0</td>\n      <td>0.0</td>\n      <td>4.17</td>\n    </tr>\n    <tr>\n      <th>60</th>\n      <td>2010-05-25 12:00:00</td>\n      <td>0.0</td>\n      <td>0.0</td>\n      <td>0.0</td>\n      <td>4.17</td>\n    </tr>\n  </tbody>\n</table>\n<p>61 rows × 5 columns</p>\n</div>"
     },
     "execution_count": 105,
     "metadata": {},
     "output_type": "execute_result"
    }
   ],
   "source": [
    "test_df = pd.read_csv('data/event/Siou_Luan/秀巒_event10_201005.csv')\n",
    "test_df"
   ],
   "metadata": {
    "collapsed": false,
    "pycharm": {
     "name": "#%%\n"
    }
   }
  },
  {
   "cell_type": "code",
   "execution_count": 106,
   "outputs": [
    {
     "data": {
      "text/plain": "<Figure size 432x288 with 1 Axes>",
      "image/png": "[encoded data removed]"
     },
     "metadata": {
      "needs_background": "light"
     },
     "output_type": "display_data"
    }
   ],
   "source": [
    "test_df['Time'] = pd.to_datetime(test_df['Time'])\n",
    "X = test_df[['Time']]\n",
    "Y = test_df[['rain_白石']]\n",
    "plt.plot(X, Y)\n",
    "plt.show()"
   ],
   "metadata": {
    "collapsed": false,
    "pycharm": {
     "name": "#%%\n"
    }
   }
  },
  {
   "cell_type": "code",
   "execution_count": 110,
   "outputs": [
    {
     "data": {
      "text/plain": "<Figure size 432x288 with 1 Axes>",
      "image/png": "[encoded data removed]"
     },
     "metadata": {
      "needs_background": "light"
     },
     "output_type": "display_data"
    }
   ],
   "source": [
    "start, end = 0, 22\n",
    "X = test_df[['Time']]\n",
    "Y = test_df[['rain_白石']]\n",
    "X_cut = X[start:end]\n",
    "Y_cut = Y[start:end]\n",
    "plt.plot(X_cut, Y_cut)\n",
    "plt.show()"
   ],
   "metadata": {
    "collapsed": false,
    "pycharm": {
     "name": "#%%\n"
    }
   }
  },
  {
   "cell_type": "code",
   "execution_count": 111,
   "outputs": [
    {
     "data": {
      "text/plain": "                  Time  rain_鎮西堡  rain_白石  rain_秀巒  Flow\n0  2010-05-23 00:00:00       0.0      0.0      0.0  2.75\n1  2010-05-23 01:00:00       0.0      0.0      0.0  2.75\n2  2010-05-23 02:00:00       0.0      0.0      0.0  2.75\n3  2010-05-23 03:00:00       0.0      0.0      0.0  2.75\n4  2010-05-23 04:00:00       0.0      0.0      0.0  2.75\n5  2010-05-23 05:00:00       0.0      0.0      0.0  2.75\n6  2010-05-23 06:00:00       0.0      0.0      0.0  2.75\n7  2010-05-23 07:00:00       0.0      0.0      0.0  2.75\n8  2010-05-23 08:00:00       0.0      0.0      0.0  2.75\n9  2010-05-23 09:00:00       0.0      0.0      0.0  2.75\n10 2010-05-23 10:00:00       5.0      4.0      2.0  2.75\n11 2010-05-23 11:00:00       2.0      2.0      2.5  2.75\n12 2010-05-23 12:00:00       4.0      4.0      3.5  2.75\n13 2010-05-23 13:00:00       2.0      1.0      0.5  2.86\n14 2010-05-23 14:00:00       0.0      0.0      1.0  2.98\n15 2010-05-23 15:00:00       1.0      1.0      1.5  2.98\n16 2010-05-23 16:00:00       1.0      2.0      2.5  2.98\n17 2010-05-23 17:00:00       1.0      2.0      1.5  3.10\n18 2010-05-23 18:00:00       1.0      0.0      0.0  3.22\n19 2010-05-23 19:00:00       7.0      8.0      5.5  3.35\n20 2010-05-23 20:00:00      10.0      9.0      4.0  3.47\n21 2010-05-23 21:00:00       7.0     11.0      9.0  3.74",
      "text/html": "<div>\n<style scoped>\n    .dataframe tbody tr th:only-of-type {\n        vertical-align: middle;\n    }\n\n    .dataframe tbody tr th {\n        vertical-align: top;\n    }\n\n    .dataframe thead th {\n        text-align: right;\n    }\n</style>\n<table border=\"1\" class=\"dataframe\">\n  <thead>\n    <tr style=\"text-align: right;\">\n      <th></th>\n      <th>Time</th>\n      <th>rain_鎮西堡</th>\n      <th>rain_白石</th>\n      <th>rain_秀巒</th>\n      <th>Flow</th>\n    </tr>\n  </thead>\n  <tbody>\n    <tr>\n      <th>0</th>\n      <td>2010-05-23 00:00:00</td>\n      <td>0.0</td>\n      <td>0.0</td>\n      <td>0.0</td>\n      <td>2.75</td>\n    </tr>\n    <tr>\n      <th>1</th>\n      <td>2010-05-23 01:00:00</td>\n      <td>0.0</td>\n      <td>0.0</td>\n      <td>0.0</td>\n      <td>2.75</td>\n    </tr>\n    <tr>\n      <th>2</th>\n      <td>2010-05-23 02:00:00</td>\n      <td>0.0</td>\n      <td>0.0</td>\n      <td>0.0</td>\n      <td>2.75</td>\n    </tr>\n    <tr>\n      <th>3</th>\n      <td>2010-05-23 03:00:00</td>\n      <td>0.0</td>\n      <td>0.0</td>\n      <td>0.0</td>\n      <td>2.75</td>\n    </tr>\n    <tr>\n      <th>4</th>\n      <td>2010-05-23 04:00:00</td>\n      <td>0.0</td>\n      <td>0.0</td>\n      <td>0.0</td>\n      <td>2.75</td>\n    </tr>\n    <tr>\n      <th>5</th>\n      <td>2010-05-23 05:00:00</td>\n      <td>0.0</td>\n      <td>0.0</td>\n      <td>0.0</td>\n      <td>2.75</td>\n    </tr>\n    <tr>\n      <th>6</th>\n      <td>2010-05-23 06:00:00</td>\n      <td>0.0</td>\n      <td>0.0</td>\n      <td>0.0</td>\n      <td>2.75</td>\n    </tr>\n    <tr>\n      <th>7</th>\n      <td>2010-05-23 07:00:00</td>\n      <td>0.0</td>\n      <td>0.0</td>\n      <td>0.0</td>\n      <td>2.75</td>\n    </tr>\n    <tr>\n      <th>8</th>\n      <td>2010-05-23 08:00:00</td>\n      <td>0.0</td>\n      <td>0.0</td>\n      <td>0.0</td>\n      <td>2.75</td>\n    </tr>\n    <tr>\n      <th>9</th>\n      <td>2010-05-23 09:00:00</td>\n      <td>0.0</td>\n      <td>0.0</td>\n      <td>0.0</td>\n      <td>2.75</td>\n    </tr>\n    <tr>\n      <th>10</th>\n      <td>2010-05-23 10:00:00</td>\n      <td>5.0</td>\n      <td>4.0</td>\n      <td>2.0</td>\n      <td>2.75</td>\n    </tr>\n    <tr>\n      <th>11</th>\n      <td>2010-05-23 11:00:00</td>\n      <td>2.0</td>\n      <td>2.0</td>\n      <td>2.5</td>\n      <td>2.75</td>\n    </tr>\n    <tr>\n      <th>12</th>\n      <td>2010-05-23 12:00:00</td>\n      <td>4.0</td>\n      <td>4.0</td>\n      <td>3.5</td>\n      <td>2.75</td>\n    </tr>\n    <tr>\n      <th>13</th>\n      <td>2010-05-23 13:00:00</td>\n      <td>2.0</td>\n      <td>1.0</td>\n      <td>0.5</td>\n      <td>2.86</td>\n    </tr>\n    <tr>\n      <th>14</th>\n      <td>2010-05-23 14:00:00</td>\n      <td>0.0</td>\n      <td>0.0</td>\n      <td>1.0</td>\n      <td>2.98</td>\n    </tr>\n    <tr>\n      <th>15</th>\n      <td>2010-05-23 15:00:00</td>\n      <td>1.0</td>\n      <td>1.0</td>\n      <td>1.5</td>\n      <td>2.98</td>\n    </tr>\n    <tr>\n      <th>16</th>\n      <td>2010-05-23 16:00:00</td>\n      <td>1.0</td>\n      <td>2.0</td>\n      <td>2.5</td>\n      <td>2.98</td>\n    </tr>\n    <tr>\n      <th>17</th>\n      <td>2010-05-23 17:00:00</td>\n      <td>1.0</td>\n      <td>2.0</td>\n      <td>1.5</td>\n      <td>3.10</td>\n    </tr>\n    <tr>\n      <th>18</th>\n      <td>2010-05-23 18:00:00</td>\n      <td>1.0</td>\n      <td>0.0</td>\n      <td>0.0</td>\n      <td>3.22</td>\n    </tr>\n    <tr>\n      <th>19</th>\n      <td>2010-05-23 19:00:00</td>\n      <td>7.0</td>\n      <td>8.0</td>\n      <td>5.5</td>\n      <td>3.35</td>\n    </tr>\n    <tr>\n      <th>20</th>\n      <td>2010-05-23 20:00:00</td>\n      <td>10.0</td>\n      <td>9.0</td>\n      <td>4.0</td>\n      <td>3.47</td>\n    </tr>\n    <tr>\n      <th>21</th>\n      <td>2010-05-23 21:00:00</td>\n      <td>7.0</td>\n      <td>11.0</td>\n      <td>9.0</td>\n      <td>3.74</td>\n    </tr>\n  </tbody>\n</table>\n</div>"
     },
     "execution_count": 111,
     "metadata": {},
     "output_type": "execute_result"
    }
   ],
   "source": [
    "test_df[start:end].to_csv('data/event/Siou_Luan_Ver2/秀巒_event10_201005.csv')\n",
    "test_df[start:end]"
   ],
   "metadata": {
    "collapsed": false,
    "pycharm": {
     "name": "#%%\n"
    }
   }
  }
 ],
 "metadata": {
  "kernelspec": {
   "display_name": "Python 3",
   "language": "python",
   "name": "python3"
  },
  "language_info": {
   "codemirror_mode": {
    "name": "ipython",
    "version": 2
   },
   "file_extension": ".py",
   "mimetype": "text/x-python",
   "name": "python",
   "nbconvert_exporter": "python",
   "pygments_lexer": "ipython2",
   "version": "2.7.6"
  }
 },
 "nbformat": 4,
 "nbformat_minor": 0
}