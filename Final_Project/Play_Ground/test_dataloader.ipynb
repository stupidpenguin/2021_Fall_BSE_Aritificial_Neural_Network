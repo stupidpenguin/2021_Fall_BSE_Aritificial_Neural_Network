{
 "cells": [
  {
   "cell_type": "code",
   "execution_count": 6,
   "metadata": {
    "collapsed": true
   },
   "outputs": [],
   "source": [
    "\n",
    "import torch\n",
    "import torch.utils.data as Data\n",
    "import numpy as np\n",
    "import tensorflow as tf"
   ]
  },
  {
   "cell_type": "code",
   "execution_count": 16,
   "outputs": [
    {
     "name": "stdout",
     "output_type": "stream",
     "text": [
      "tensor([[0.5092, 0.8901],\n",
      "        [0.2261, 0.9842],\n",
      "        [0.9215, 0.1414],\n",
      "        [0.2340, 0.0986],\n",
      "        [0.7440, 0.9524],\n",
      "        [0.0885, 0.3827],\n",
      "        [0.2975, 0.9801],\n",
      "        [0.2168, 0.7062],\n",
      "        [0.6330, 0.4122],\n",
      "        [0.1036, 0.3905]], dtype=torch.float64)\n",
      "tensor([[0.7062],\n",
      "        [0.1036],\n",
      "        [0.0190],\n",
      "        [0.3698],\n",
      "        [0.8241],\n",
      "        [0.4920],\n",
      "        [0.3209],\n",
      "        [0.9355],\n",
      "        [0.6343],\n",
      "        [0.6767]], dtype=torch.float64)\n"
     ]
    }
   ],
   "source": [
    "BATCH_SIZE = 5\n",
    "\n",
    "x = torch.tensor(np.random.rand(10,2))\n",
    "y = torch.tensor(np.random.rand(10,1))\n",
    "print(x)\n",
    "print(y)"
   ],
   "metadata": {
    "collapsed": false,
    "pycharm": {
     "name": "#%%\n"
    }
   }
  },
  {
   "cell_type": "code",
   "execution_count": 17,
   "outputs": [
    {
     "name": "stdout",
     "output_type": "stream",
     "text": [
      "step:0\n",
      "batch_x:tensor([[0.2261, 0.9842],\n",
      "        [0.7440, 0.9524],\n",
      "        [0.1036, 0.3905],\n",
      "        [0.2168, 0.7062],\n",
      "        [0.2340, 0.0986]], dtype=torch.float64)\n",
      "batch_y:tensor([[0.1036],\n",
      "        [0.8241],\n",
      "        [0.6767],\n",
      "        [0.9355],\n",
      "        [0.3698]], dtype=torch.float64)\n",
      "step:1\n",
      "batch_x:tensor([[0.2975, 0.9801],\n",
      "        [0.9215, 0.1414],\n",
      "        [0.0885, 0.3827],\n",
      "        [0.5092, 0.8901],\n",
      "        [0.6330, 0.4122]], dtype=torch.float64)\n",
      "batch_y:tensor([[0.3209],\n",
      "        [0.0190],\n",
      "        [0.4920],\n",
      "        [0.7062],\n",
      "        [0.6343]], dtype=torch.float64)\n",
      "step:0\n",
      "batch_x:tensor([[0.6330, 0.4122],\n",
      "        [0.1036, 0.3905],\n",
      "        [0.2340, 0.0986],\n",
      "        [0.2168, 0.7062],\n",
      "        [0.9215, 0.1414]], dtype=torch.float64)\n",
      "batch_y:tensor([[0.6343],\n",
      "        [0.6767],\n",
      "        [0.3698],\n",
      "        [0.9355],\n",
      "        [0.0190]], dtype=torch.float64)\n",
      "step:1\n",
      "batch_x:tensor([[0.5092, 0.8901],\n",
      "        [0.2261, 0.9842],\n",
      "        [0.0885, 0.3827],\n",
      "        [0.2975, 0.9801],\n",
      "        [0.7440, 0.9524]], dtype=torch.float64)\n",
      "batch_y:tensor([[0.7062],\n",
      "        [0.1036],\n",
      "        [0.4920],\n",
      "        [0.3209],\n",
      "        [0.8241]], dtype=torch.float64)\n",
      "step:0\n",
      "batch_x:tensor([[0.2261, 0.9842],\n",
      "        [0.6330, 0.4122],\n",
      "        [0.1036, 0.3905],\n",
      "        [0.2340, 0.0986],\n",
      "        [0.2168, 0.7062]], dtype=torch.float64)\n",
      "batch_y:tensor([[0.1036],\n",
      "        [0.6343],\n",
      "        [0.6767],\n",
      "        [0.3698],\n",
      "        [0.9355]], dtype=torch.float64)\n",
      "step:1\n",
      "batch_x:tensor([[0.0885, 0.3827],\n",
      "        [0.9215, 0.1414],\n",
      "        [0.2975, 0.9801],\n",
      "        [0.5092, 0.8901],\n",
      "        [0.7440, 0.9524]], dtype=torch.float64)\n",
      "batch_y:tensor([[0.4920],\n",
      "        [0.0190],\n",
      "        [0.3209],\n",
      "        [0.7062],\n",
      "        [0.8241]], dtype=torch.float64)\n"
     ]
    }
   ],
   "source": [
    "torch_dataset = Data.TensorDataset(x, y)\n",
    "dataloader = Data.DataLoader(\n",
    "    dataset=torch_dataset,\n",
    "    batch_size=BATCH_SIZE,\n",
    "    shuffle=True,\n",
    "    num_workers=8\n",
    ")\n",
    "\n",
    "def show_batch():\n",
    "    for epoch in range(3):\n",
    "        for step, (batch_x, batch_y) in enumerate(dataloader):\n",
    "            print(\"step:{}\\nbatch_x:{}\\nbatch_y:{}\".format(step, batch_x, batch_y))\n",
    "\n",
    "if __name__ == '__main__':\n",
    "    show_batch()"
   ],
   "metadata": {
    "collapsed": false,
    "pycharm": {
     "name": "#%%\n"
    }
   }
  }
 ],
 "metadata": {
  "kernelspec": {
   "display_name": "Python 3",
   "language": "python",
   "name": "python3"
  },
  "language_info": {
   "codemirror_mode": {
    "name": "ipython",
    "version": 2
   },
   "file_extension": ".py",
   "mimetype": "text/x-python",
   "name": "python",
   "nbconvert_exporter": "python",
   "pygments_lexer": "ipython2",
   "version": "2.7.6"
  }
 },
 "nbformat": 4,
 "nbformat_minor": 0
}