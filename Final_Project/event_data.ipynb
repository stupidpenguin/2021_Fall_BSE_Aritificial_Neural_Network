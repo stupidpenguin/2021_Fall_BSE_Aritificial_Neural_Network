{
 "cells": [
  {
   "cell_type": "code",
   "execution_count": 30,
   "metadata": {
    "collapsed": true
   },
   "outputs": [],
   "source": [
    "import pandas as pd\n",
    "import matplotlib.pyplot as plt"
   ]
  },
  {
   "cell_type": "code",
   "execution_count": 31,
   "outputs": [],
   "source": [
    "df = pd.read_csv('data/event/Siou_Luan/秀巒_event2_201009.csv')\n",
    "df['Time'] = pd.to_datetime(df['Time'])"
   ],
   "metadata": {
    "collapsed": false,
    "pycharm": {
     "name": "#%%\n"
    }
   }
  },
  {
   "cell_type": "code",
   "execution_count": 32,
   "outputs": [
    {
     "data": {
      "text/plain": "<Figure size 432x288 with 1 Axes>",
      "image/png": "[encoded data removed]"
     },
     "metadata": {
      "needs_background": "light"
     },
     "output_type": "display_data"
    }
   ],
   "source": [
    "Y = df[['rain_白石']]\n",
    "X = df[['Time']]\n",
    "plt.plot(X, Y)\n",
    "plt.show()"
   ],
   "metadata": {
    "collapsed": false,
    "pycharm": {
     "name": "#%%\n"
    }
   }
  },
  {
   "cell_type": "code",
   "execution_count": 33,
   "outputs": [
    {
     "name": "stdout",
     "output_type": "stream",
     "text": [
      "[[ 0.]\n",
      " [ 0.]\n",
      " [ 0.]\n",
      " [ 0.]\n",
      " [ 0.]\n",
      " [ 0.]\n",
      " [ 0.]\n",
      " [ 1.]\n",
      " [ 1.]\n",
      " [ 1.]\n",
      " [ 3.]\n",
      " [ 3.]\n",
      " [ 2.]\n",
      " [ 0.]\n",
      " [ 4.]\n",
      " [ 2.]\n",
      " [ 0.]\n",
      " [ 1.]\n",
      " [ 4.]\n",
      " [ 2.]\n",
      " [10.]\n",
      " [10.]\n",
      " [ 7.]\n",
      " [22.]\n",
      " [22.]\n",
      " [14.]\n",
      " [ 0.]\n",
      " [ 3.]\n",
      " [ 1.]\n",
      " [ 2.]\n",
      " [ 1.]\n",
      " [ 1.]\n",
      " [ 3.]\n",
      " [ 0.]\n",
      " [ 0.]\n",
      " [ 0.]\n",
      " [ 0.]\n",
      " [ 0.]\n",
      " [ 0.]\n",
      " [ 0.]\n",
      " [ 0.]\n",
      " [ 0.]\n",
      " [ 0.]\n",
      " [ 0.]\n",
      " [ 0.]\n",
      " [ 0.]\n",
      " [ 0.]\n",
      " [ 0.]\n",
      " [ 0.]\n",
      " [ 0.]\n",
      " [ 0.]\n",
      " [ 0.]\n",
      " [ 0.]\n",
      " [ 0.]\n",
      " [ 0.]\n",
      " [ 0.]\n",
      " [ 1.]\n",
      " [ 0.]\n",
      " [ 0.]\n",
      " [ 0.]\n",
      " [ 0.]\n",
      " [ 0.]\n",
      " [ 0.]\n",
      " [ 0.]\n",
      " [ 0.]]\n"
     ]
    }
   ],
   "source": [
    "import numpy as np\n",
    "sample_length = 8\n",
    "predict_length = 4\n",
    "\n",
    "X = np.array(Y)\n",
    "print(X)"
   ],
   "metadata": {
    "collapsed": false,
    "pycharm": {
     "name": "#%%\n"
    }
   }
  },
  {
   "cell_type": "code",
   "execution_count": 34,
   "outputs": [
    {
     "data": {
      "text/plain": "[array([[0.],\n        [0.],\n        [0.],\n        [0.],\n        [0.],\n        [0.],\n        [0.],\n        [1.]]),\n array([[0.],\n        [0.],\n        [0.],\n        [0.],\n        [0.],\n        [0.],\n        [1.],\n        [1.]]),\n array([[0.],\n        [0.],\n        [0.],\n        [0.],\n        [0.],\n        [1.],\n        [1.],\n        [1.]]),\n array([[0.],\n        [0.],\n        [0.],\n        [0.],\n        [1.],\n        [1.],\n        [1.],\n        [3.]]),\n array([[0.],\n        [0.],\n        [0.],\n        [1.],\n        [1.],\n        [1.],\n        [3.],\n        [3.]]),\n array([[0.],\n        [0.],\n        [1.],\n        [1.],\n        [1.],\n        [3.],\n        [3.],\n        [2.]]),\n array([[0.],\n        [1.],\n        [1.],\n        [1.],\n        [3.],\n        [3.],\n        [2.],\n        [0.]]),\n array([[1.],\n        [1.],\n        [1.],\n        [3.],\n        [3.],\n        [2.],\n        [0.],\n        [4.]]),\n array([[1.],\n        [1.],\n        [3.],\n        [3.],\n        [2.],\n        [0.],\n        [4.],\n        [2.]]),\n array([[1.],\n        [3.],\n        [3.],\n        [2.],\n        [0.],\n        [4.],\n        [2.],\n        [0.]]),\n array([[3.],\n        [3.],\n        [2.],\n        [0.],\n        [4.],\n        [2.],\n        [0.],\n        [1.]]),\n array([[3.],\n        [2.],\n        [0.],\n        [4.],\n        [2.],\n        [0.],\n        [1.],\n        [4.]]),\n array([[2.],\n        [0.],\n        [4.],\n        [2.],\n        [0.],\n        [1.],\n        [4.],\n        [2.]]),\n array([[ 0.],\n        [ 4.],\n        [ 2.],\n        [ 0.],\n        [ 1.],\n        [ 4.],\n        [ 2.],\n        [10.]]),\n array([[ 4.],\n        [ 2.],\n        [ 0.],\n        [ 1.],\n        [ 4.],\n        [ 2.],\n        [10.],\n        [10.]]),\n array([[ 2.],\n        [ 0.],\n        [ 1.],\n        [ 4.],\n        [ 2.],\n        [10.],\n        [10.],\n        [ 7.]]),\n array([[ 0.],\n        [ 1.],\n        [ 4.],\n        [ 2.],\n        [10.],\n        [10.],\n        [ 7.],\n        [22.]]),\n array([[ 1.],\n        [ 4.],\n        [ 2.],\n        [10.],\n        [10.],\n        [ 7.],\n        [22.],\n        [22.]]),\n array([[ 4.],\n        [ 2.],\n        [10.],\n        [10.],\n        [ 7.],\n        [22.],\n        [22.],\n        [14.]]),\n array([[ 2.],\n        [10.],\n        [10.],\n        [ 7.],\n        [22.],\n        [22.],\n        [14.],\n        [ 0.]]),\n array([[10.],\n        [10.],\n        [ 7.],\n        [22.],\n        [22.],\n        [14.],\n        [ 0.],\n        [ 3.]]),\n array([[10.],\n        [ 7.],\n        [22.],\n        [22.],\n        [14.],\n        [ 0.],\n        [ 3.],\n        [ 1.]]),\n array([[ 7.],\n        [22.],\n        [22.],\n        [14.],\n        [ 0.],\n        [ 3.],\n        [ 1.],\n        [ 2.]]),\n array([[22.],\n        [22.],\n        [14.],\n        [ 0.],\n        [ 3.],\n        [ 1.],\n        [ 2.],\n        [ 1.]]),\n array([[22.],\n        [14.],\n        [ 0.],\n        [ 3.],\n        [ 1.],\n        [ 2.],\n        [ 1.],\n        [ 1.]]),\n array([[14.],\n        [ 0.],\n        [ 3.],\n        [ 1.],\n        [ 2.],\n        [ 1.],\n        [ 1.],\n        [ 3.]]),\n array([[0.],\n        [3.],\n        [1.],\n        [2.],\n        [1.],\n        [1.],\n        [3.],\n        [0.]]),\n array([[3.],\n        [1.],\n        [2.],\n        [1.],\n        [1.],\n        [3.],\n        [0.],\n        [0.]]),\n array([[1.],\n        [2.],\n        [1.],\n        [1.],\n        [3.],\n        [0.],\n        [0.],\n        [0.]]),\n array([[2.],\n        [1.],\n        [1.],\n        [3.],\n        [0.],\n        [0.],\n        [0.],\n        [0.]]),\n array([[1.],\n        [1.],\n        [3.],\n        [0.],\n        [0.],\n        [0.],\n        [0.],\n        [0.]]),\n array([[1.],\n        [3.],\n        [0.],\n        [0.],\n        [0.],\n        [0.],\n        [0.],\n        [0.]]),\n array([[3.],\n        [0.],\n        [0.],\n        [0.],\n        [0.],\n        [0.],\n        [0.],\n        [0.]]),\n array([[0.],\n        [0.],\n        [0.],\n        [0.],\n        [0.],\n        [0.],\n        [0.],\n        [0.]]),\n array([[0.],\n        [0.],\n        [0.],\n        [0.],\n        [0.],\n        [0.],\n        [0.],\n        [0.]]),\n array([[0.],\n        [0.],\n        [0.],\n        [0.],\n        [0.],\n        [0.],\n        [0.],\n        [0.]]),\n array([[0.],\n        [0.],\n        [0.],\n        [0.],\n        [0.],\n        [0.],\n        [0.],\n        [0.]]),\n array([[0.],\n        [0.],\n        [0.],\n        [0.],\n        [0.],\n        [0.],\n        [0.],\n        [0.]]),\n array([[0.],\n        [0.],\n        [0.],\n        [0.],\n        [0.],\n        [0.],\n        [0.],\n        [0.]]),\n array([[0.],\n        [0.],\n        [0.],\n        [0.],\n        [0.],\n        [0.],\n        [0.],\n        [0.]]),\n array([[0.],\n        [0.],\n        [0.],\n        [0.],\n        [0.],\n        [0.],\n        [0.],\n        [0.]]),\n array([[0.],\n        [0.],\n        [0.],\n        [0.],\n        [0.],\n        [0.],\n        [0.],\n        [0.]]),\n array([[0.],\n        [0.],\n        [0.],\n        [0.],\n        [0.],\n        [0.],\n        [0.],\n        [0.]]),\n array([[0.],\n        [0.],\n        [0.],\n        [0.],\n        [0.],\n        [0.],\n        [0.],\n        [0.]]),\n array([[0.],\n        [0.],\n        [0.],\n        [0.],\n        [0.],\n        [0.],\n        [0.],\n        [0.]]),\n array([[0.],\n        [0.],\n        [0.],\n        [0.],\n        [0.],\n        [0.],\n        [0.],\n        [0.]]),\n array([[0.],\n        [0.],\n        [0.],\n        [0.],\n        [0.],\n        [0.],\n        [0.],\n        [0.]]),\n array([[0.],\n        [0.],\n        [0.],\n        [0.],\n        [0.],\n        [0.],\n        [0.],\n        [0.]]),\n array([[0.],\n        [0.],\n        [0.],\n        [0.],\n        [0.],\n        [0.],\n        [0.],\n        [0.]]),\n array([[0.],\n        [0.],\n        [0.],\n        [0.],\n        [0.],\n        [0.],\n        [0.],\n        [1.]]),\n array([[0.],\n        [0.],\n        [0.],\n        [0.],\n        [0.],\n        [0.],\n        [1.],\n        [0.]]),\n array([[0.],\n        [0.],\n        [0.],\n        [0.],\n        [0.],\n        [1.],\n        [0.],\n        [0.]]),\n array([[0.],\n        [0.],\n        [0.],\n        [0.],\n        [1.],\n        [0.],\n        [0.],\n        [0.]]),\n array([[0.],\n        [0.],\n        [0.],\n        [1.],\n        [0.],\n        [0.],\n        [0.],\n        [0.]])]"
     },
     "execution_count": 34,
     "metadata": {},
     "output_type": "execute_result"
    }
   ],
   "source": [
    "train_data = []\n",
    "label = []\n",
    "\n",
    "for i in range(len(X)):\n",
    "    if i+sample_length+predict_length < len(X)+1:\n",
    "        train_data.append(X[i:i+sample_length])\n",
    "        label.append(X[i+sample_length:i+sample_length+predict_length])\n",
    "\n",
    "train_data"
   ],
   "metadata": {
    "collapsed": false,
    "pycharm": {
     "name": "#%%\n"
    }
   }
  },
  {
   "cell_type": "code",
   "execution_count": 35,
   "outputs": [
    {
     "data": {
      "text/plain": "[array([[1.],\n        [1.],\n        [3.],\n        [3.]]),\n array([[1.],\n        [3.],\n        [3.],\n        [2.]]),\n array([[3.],\n        [3.],\n        [2.],\n        [0.]]),\n array([[3.],\n        [2.],\n        [0.],\n        [4.]]),\n array([[2.],\n        [0.],\n        [4.],\n        [2.]]),\n array([[0.],\n        [4.],\n        [2.],\n        [0.]]),\n array([[4.],\n        [2.],\n        [0.],\n        [1.]]),\n array([[2.],\n        [0.],\n        [1.],\n        [4.]]),\n array([[0.],\n        [1.],\n        [4.],\n        [2.]]),\n array([[ 1.],\n        [ 4.],\n        [ 2.],\n        [10.]]),\n array([[ 4.],\n        [ 2.],\n        [10.],\n        [10.]]),\n array([[ 2.],\n        [10.],\n        [10.],\n        [ 7.]]),\n array([[10.],\n        [10.],\n        [ 7.],\n        [22.]]),\n array([[10.],\n        [ 7.],\n        [22.],\n        [22.]]),\n array([[ 7.],\n        [22.],\n        [22.],\n        [14.]]),\n array([[22.],\n        [22.],\n        [14.],\n        [ 0.]]),\n array([[22.],\n        [14.],\n        [ 0.],\n        [ 3.]]),\n array([[14.],\n        [ 0.],\n        [ 3.],\n        [ 1.]]),\n array([[0.],\n        [3.],\n        [1.],\n        [2.]]),\n array([[3.],\n        [1.],\n        [2.],\n        [1.]]),\n array([[1.],\n        [2.],\n        [1.],\n        [1.]]),\n array([[2.],\n        [1.],\n        [1.],\n        [3.]]),\n array([[1.],\n        [1.],\n        [3.],\n        [0.]]),\n array([[1.],\n        [3.],\n        [0.],\n        [0.]]),\n array([[3.],\n        [0.],\n        [0.],\n        [0.]]),\n array([[0.],\n        [0.],\n        [0.],\n        [0.]]),\n array([[0.],\n        [0.],\n        [0.],\n        [0.]]),\n array([[0.],\n        [0.],\n        [0.],\n        [0.]]),\n array([[0.],\n        [0.],\n        [0.],\n        [0.]]),\n array([[0.],\n        [0.],\n        [0.],\n        [0.]]),\n array([[0.],\n        [0.],\n        [0.],\n        [0.]]),\n array([[0.],\n        [0.],\n        [0.],\n        [0.]]),\n array([[0.],\n        [0.],\n        [0.],\n        [0.]]),\n array([[0.],\n        [0.],\n        [0.],\n        [0.]]),\n array([[0.],\n        [0.],\n        [0.],\n        [0.]]),\n array([[0.],\n        [0.],\n        [0.],\n        [0.]]),\n array([[0.],\n        [0.],\n        [0.],\n        [0.]]),\n array([[0.],\n        [0.],\n        [0.],\n        [0.]]),\n array([[0.],\n        [0.],\n        [0.],\n        [0.]]),\n array([[0.],\n        [0.],\n        [0.],\n        [0.]]),\n array([[0.],\n        [0.],\n        [0.],\n        [0.]]),\n array([[0.],\n        [0.],\n        [0.],\n        [0.]]),\n array([[0.],\n        [0.],\n        [0.],\n        [0.]]),\n array([[0.],\n        [0.],\n        [0.],\n        [0.]]),\n array([[0.],\n        [0.],\n        [0.],\n        [0.]]),\n array([[0.],\n        [0.],\n        [0.],\n        [1.]]),\n array([[0.],\n        [0.],\n        [1.],\n        [0.]]),\n array([[0.],\n        [1.],\n        [0.],\n        [0.]]),\n array([[1.],\n        [0.],\n        [0.],\n        [0.]]),\n array([[0.],\n        [0.],\n        [0.],\n        [0.]]),\n array([[0.],\n        [0.],\n        [0.],\n        [0.]]),\n array([[0.],\n        [0.],\n        [0.],\n        [0.]]),\n array([[0.],\n        [0.],\n        [0.],\n        [0.]]),\n array([[0.],\n        [0.],\n        [0.],\n        [0.]])]"
     },
     "execution_count": 35,
     "metadata": {},
     "output_type": "execute_result"
    }
   ],
   "source": [
    "label"
   ],
   "metadata": {
    "collapsed": false,
    "pycharm": {
     "name": "#%%\n"
    }
   }
  }
 ],
 "metadata": {
  "kernelspec": {
   "display_name": "Python 3",
   "language": "python",
   "name": "python3"
  },
  "language_info": {
   "codemirror_mode": {
    "name": "ipython",
    "version": 2
   },
   "file_extension": ".py",
   "mimetype": "text/x-python",
   "name": "python",
   "nbconvert_exporter": "python",
   "pygments_lexer": "ipython2",
   "version": "2.7.6"
  }
 },
 "nbformat": 4,
 "nbformat_minor": 0
}