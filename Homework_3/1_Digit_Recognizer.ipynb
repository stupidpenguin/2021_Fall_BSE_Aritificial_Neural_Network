{
 "cells": [
  {
   "cell_type": "code",
   "execution_count": 112,
   "metadata": {
    "collapsed": true
   },
   "outputs": [],
   "source": [
    "# -*- coding: utf-8 -*-\n",
    "\"\"\"\n",
    "Created on Sat Nov 27 22:54:32 2021\n",
    "\n",
    "@author: steve\n",
    "\"\"\"\n",
    "\n",
    "import numpy as np\n",
    "import math\n",
    "from minisom import MiniSom\n",
    "import matplotlib.pyplot as plt\n",
    "\n",
    "num1=[0,0,0,1,0,0,0,1,0,0,0,1,0,0,0,1,0,0,0,1,0,0,0,1,0,0,0,1,0,0,0,1,0,0,0,1]\n",
    "num2=[1,1,1,1,0,0,0,1,0,0,0,1,0,0,0,1,1,1,1,1,1,0,0,0,1,0,0,0,1,0,0,0,1,1,1,1]\n",
    "num3=[1,1,1,1,0,0,0,1,0,0,0,1,0,0,0,1,1,1,1,1,0,0,0,1,0,0,0,1,0,0,0,1,1,1,1,1]\n",
    "num4=[1,0,0,1,1,0,0,1,1,0,0,1,1,0,0,1,1,1,1,1,0,0,0,1,0,0,0,1,0,0,0,1,0,0,0,1]\n",
    "num5=[1,1,1,1,1,0,0,0,1,0,0,0,1,0,0,0,1,1,1,1,0,0,0,1,0,0,0,1,0,0,0,1,1,1,1,1]\n",
    "num6=[1,1,1,1,1,0,0,0,1,0,0,0,1,0,0,0,1,1,1,1,1,0,0,1,1,0,0,1,1,0,0,1,1,1,1,1]\n",
    "num7=[1,0,0,0,0,0,0,1,0,0,0,1,0,0,0,1,0,0,0,1,0,0,0,1,0,0,0,1,0,0,0,1,0,0,0,1]\n",
    "num8=[1,1,1,1,1,0,0,1,1,0,0,1,1,0,0,1,1,1,1,1,1,0,0,1,1,0,0,1,1,0,0,1,1,1,1,1]\n",
    "num9=[1,1,1,1,1,0,0,1,1,0,0,1,1,0,0,1,1,1,1,1,0,0,0,1,0,0,0,1,0,0,0,1,0,0,0,1]\n",
    "num0=[1,1,1,1,1,0,0,1,1,0,0,1,1,0,0,1,1,0,0,1,1,0,0,1,1,0,0,1,1,0,0,1,1,1,1,1]\n",
    "\n",
    "data=[num1,num2,num3,num4,num5,num6,num7,num8,num9,num0]\n",
    "data=np.asarray(data)"
   ]
  },
  {
   "cell_type": "code",
   "execution_count": 113,
   "outputs": [],
   "source": [
    "som_size=3\n",
    "som = MiniSom(som_size, som_size, 36, sigma=1, learning_rate=0.1) # initialization of 6x6 SOM\n",
    "som.train_random(data,1000) # trains the SOM with 100 iterations\n",
    "weights=som.get_weights()"
   ],
   "metadata": {
    "collapsed": false,
    "pycharm": {
     "name": "#%%\n"
    }
   }
  },
  {
   "cell_type": "code",
   "execution_count": 114,
   "outputs": [],
   "source": [
    "flatten_weights=[]\n",
    "for i in range(0,len(weights)):\n",
    "    for j in range(0,len(weights[i])):\n",
    "        flatten_weights.append(weights[i,j,:])"
   ],
   "metadata": {
    "collapsed": false,
    "pycharm": {
     "name": "#%%\n"
    }
   }
  },
  {
   "cell_type": "code",
   "execution_count": 115,
   "outputs": [],
   "source": [
    "#reshape\n",
    "nr=9;\n",
    "nc=4;\n",
    "c1=np.zeros((nr,nc))\n",
    "c=np.zeros((nr*som_size,nc*som_size,3))\n",
    "\n",
    "#矩陣為將每一神經元權重串起\n",
    "index=0\n",
    "for t in range(0,som_size*som_size):\n",
    "    i1=math.floor((t)/som_size);\n",
    "    i2=t%som_size\n",
    "    for i in range(1,nr):\n",
    "        for j in range(1,nc):\n",
    "            c1[i,j]=1-flatten_weights[t][(i-1)*nc+j]\n",
    "            index=index+1\n",
    "\n",
    "\n",
    "    c[i1*nr:i1*nr+nr,i2*nc:i2*nc+(nc),0]=c1;\n",
    "    c[i1*nr:i1*nr+nr,i2*nc:i2*nc+(nc),1]=c1;\n",
    "    c[i1*nr:i1*nr+nr,i2*nc:i2*nc+(nc),2]=c1;"
   ],
   "metadata": {
    "collapsed": false,
    "pycharm": {
     "name": "#%%\n"
    }
   }
  },
  {
   "cell_type": "code",
   "execution_count": 116,
   "outputs": [
    {
     "name": "stderr",
     "output_type": "stream",
     "text": [
      "Clipping input data to the valid range for imshow with RGB data ([0..1] for floats or [0..255] for integers).\n"
     ]
    },
    {
     "data": {
      "text/plain": "<Figure size 432x288 with 1 Axes>",
      "image/png": "[encoded data removed]"
     },
     "metadata": {
      "needs_background": "light"
     },
     "output_type": "display_data"
    }
   ],
   "source": [
    "plt.figure()\n",
    "plt.imshow(c)\n",
    "plt.show()  # display it"
   ],
   "metadata": {
    "collapsed": false,
    "pycharm": {
     "name": "#%%\n"
    }
   }
  }
 ],
 "metadata": {
  "kernelspec": {
   "display_name": "Python 3",
   "language": "python",
   "name": "python3"
  },
  "language_info": {
   "codemirror_mode": {
    "name": "ipython",
    "version": 2
   },
   "file_extension": ".py",
   "mimetype": "text/x-python",
   "name": "python",
   "nbconvert_exporter": "python",
   "pygments_lexer": "ipython2",
   "version": "2.7.6"
  }
 },
 "nbformat": 4,
 "nbformat_minor": 0
}