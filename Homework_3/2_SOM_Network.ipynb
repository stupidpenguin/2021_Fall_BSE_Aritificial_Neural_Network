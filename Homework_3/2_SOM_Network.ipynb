{
 "cells": [
  {
   "cell_type": "code",
   "execution_count": 1,
   "metadata": {
    "collapsed": true
   },
   "outputs": [],
   "source": [
    "import pandas as pd\n",
    "import matplotlib.pyplot as plt\n",
    "import numpy as np\n",
    "import copy"
   ]
  },
  {
   "cell_type": "code",
   "execution_count": 2,
   "outputs": [
    {
     "data": {
      "text/plain": "     X1   X2\n1   1.6  0.7\n2   0.2  0.2\n3   0.9  0.6\n4   1.8  1.9\n5   0.2  1.9\n6   0.1  1.2\n7   1.8  0.6\n8   0.8  0.9\n9   0.7  0.3\n10  1.3  0.2",
      "text/html": "<div>\n<style scoped>\n    .dataframe tbody tr th:only-of-type {\n        vertical-align: middle;\n    }\n\n    .dataframe tbody tr th {\n        vertical-align: top;\n    }\n\n    .dataframe thead th {\n        text-align: right;\n    }\n</style>\n<table border=\"1\" class=\"dataframe\">\n  <thead>\n    <tr style=\"text-align: right;\">\n      <th></th>\n      <th>X1</th>\n      <th>X2</th>\n    </tr>\n  </thead>\n  <tbody>\n    <tr>\n      <th>1</th>\n      <td>1.6</td>\n      <td>0.7</td>\n    </tr>\n    <tr>\n      <th>2</th>\n      <td>0.2</td>\n      <td>0.2</td>\n    </tr>\n    <tr>\n      <th>3</th>\n      <td>0.9</td>\n      <td>0.6</td>\n    </tr>\n    <tr>\n      <th>4</th>\n      <td>1.8</td>\n      <td>1.9</td>\n    </tr>\n    <tr>\n      <th>5</th>\n      <td>0.2</td>\n      <td>1.9</td>\n    </tr>\n    <tr>\n      <th>6</th>\n      <td>0.1</td>\n      <td>1.2</td>\n    </tr>\n    <tr>\n      <th>7</th>\n      <td>1.8</td>\n      <td>0.6</td>\n    </tr>\n    <tr>\n      <th>8</th>\n      <td>0.8</td>\n      <td>0.9</td>\n    </tr>\n    <tr>\n      <th>9</th>\n      <td>0.7</td>\n      <td>0.3</td>\n    </tr>\n    <tr>\n      <th>10</th>\n      <td>1.3</td>\n      <td>0.2</td>\n    </tr>\n  </tbody>\n</table>\n</div>"
     },
     "execution_count": 2,
     "metadata": {},
     "output_type": "execute_result"
    }
   ],
   "source": [
    "data = pd.read_csv(\"data.csv\", index_col=0)\n",
    "data"
   ],
   "metadata": {
    "collapsed": false,
    "pycharm": {
     "name": "#%%\n"
    }
   }
  },
  {
   "cell_type": "code",
   "execution_count": 3,
   "outputs": [],
   "source": [
    "data_numpy = data.to_numpy()\n",
    "# data_numpy"
   ],
   "metadata": {
    "collapsed": false,
    "pycharm": {
     "name": "#%%\n"
    }
   }
  },
  {
   "cell_type": "markdown",
   "source": [
    "### a. 將10比資料點化在（x,y）座標圖上，並描述其聚類情況"
   ],
   "metadata": {
    "collapsed": false,
    "pycharm": {
     "name": "#%% md\n"
    }
   }
  },
  {
   "cell_type": "code",
   "execution_count": 4,
   "outputs": [
    {
     "data": {
      "text/plain": "<Figure size 432x288 with 1 Axes>",
      "image/png": "[encoded data removed]"
     },
     "metadata": {
      "needs_background": "light"
     },
     "output_type": "display_data"
    }
   ],
   "source": [
    "plt.title(\"Scatter Diagram of the data\")\n",
    "plt.xlabel(\"X\")\n",
    "plt.ylabel(\"Y\")\n",
    "plt.scatter(data_numpy[:,0],\n",
    "            data_numpy[:,1])\n",
    "plt.grid(True)\n",
    "plt.show()"
   ],
   "metadata": {
    "collapsed": false,
    "pycharm": {
     "name": "#%%\n"
    }
   }
  },
  {
   "cell_type": "code",
   "execution_count": 9,
   "outputs": [
    {
     "name": "stdout",
     "output_type": "stream",
     "text": [
      "centroids:[[0.15       1.55      ]\n",
      " [0.78       0.44      ]\n",
      " [1.73333333 1.06666667]]\n"
     ]
    },
    {
     "data": {
      "text/plain": "<Figure size 432x288 with 1 Axes>",
      "image/png": "[encoded data removed]"
     },
     "metadata": {
      "needs_background": "light"
     },
     "output_type": "display_data"
    }
   ],
   "source": [
    "from sklearn.cluster import KMeans\n",
    "\n",
    "AMOUNT_OF_CENTERS = 3\n",
    "kmeans = KMeans(n_clusters=AMOUNT_OF_CENTERS)\n",
    "kmeans.fit(data)\n",
    "\n",
    "labels = kmeans.predict(data)\n",
    "centroids = kmeans.cluster_centers_\n",
    "print(f'centroids:{centroids}')\n",
    "fig = plt.figure()\n",
    "\n",
    "# 宣告 colmap\n",
    "colmap = {1:'r', 2:'g', 3:'b', 4:'c', 5:'y'}\n",
    "colors = map(lambda x: colmap[x+1], labels)\n",
    "\n",
    "plt.scatter(data['X1'], data['X2'], color=list(colors), alpha=0.5, edgecolors='k')\n",
    "for idx, centroid in enumerate(centroids):\n",
    "    plt.scatter(*centroid, color=colmap[idx+1])\n",
    "plt.xlim(0, 2)\n",
    "plt.ylim(0, 2)\n",
    "plt.show()"
   ],
   "metadata": {
    "collapsed": false,
    "pycharm": {
     "name": "#%%\n"
    }
   }
  },
  {
   "cell_type": "code",
   "execution_count": null,
   "outputs": [],
   "source": [
    "initial_weights = pd.read_csv(\"initial_weights.csv\", index_col=0)\n",
    "history_weights = initial_weights\n",
    "initial_weights"
   ],
   "metadata": {
    "collapsed": false,
    "pycharm": {
     "name": "#%%\n"
    }
   }
  },
  {
   "cell_type": "code",
   "execution_count": null,
   "outputs": [],
   "source": [
    "initial_weights_nparray = initial_weights.to_numpy()\n",
    "\n",
    "model_weights = initial_weights_nparray"
   ],
   "metadata": {
    "collapsed": false,
    "pycharm": {
     "name": "#%%\n"
    }
   }
  },
  {
   "cell_type": "markdown",
   "source": [
    "### b. 初始權重在（x,y）座標圖上之分布情形"
   ],
   "metadata": {
    "collapsed": false,
    "pycharm": {
     "name": "#%% md\n"
    }
   }
  },
  {
   "cell_type": "code",
   "execution_count": null,
   "outputs": [],
   "source": [
    "plt.title(\"Scatter Diagram of the initial weights of SOMNN\")\n",
    "plt.xlabel(\"X\")\n",
    "plt.ylabel(\"Y\")\n",
    "plt.scatter(initial_weights_nparray[:,0],\n",
    "            initial_weights_nparray[:,1])\n",
    "plt.grid(True)\n",
    "plt.show()\n"
   ],
   "metadata": {
    "collapsed": false,
    "pycharm": {
     "name": "#%%\n"
    }
   }
  },
  {
   "cell_type": "markdown",
   "source": [
    "### c.\n",
    "* 若網路之學習速率為1.0、初始鄰近半徑為2.0，\n",
    "並採逐例學習，當第一個資料點（1.6,0.7）代入網路學習時，\n",
    "請找出網路之優勝神經元，並計算各神經元之權重改變量。"
   ],
   "metadata": {
    "collapsed": false,
    "pycharm": {
     "name": "#%% md\n"
    }
   }
  },
  {
   "cell_type": "code",
   "execution_count": null,
   "outputs": [],
   "source": [
    "from numpy.linalg import norm\n",
    "\n",
    "# learning rate\n",
    "lr = 1.0\n",
    "\n",
    "# radius of neighborhood\n",
    "radius = 2.0\n",
    "\n",
    "# constant\n",
    "tau_1 = 1000/np.log(radius)\n",
    "\n",
    "k = 1\n",
    "def R(k):\n",
    "    return radius*np.exp(-k/tau_1)\n",
    "\n",
    "def eta(k):\n",
    "    return lr*np.exp(-k/1000)   # tau_2 = 1000\n",
    "\n",
    "for_plt = []\n",
    "for_plt.append(model_weights)\n",
    "\n",
    "for x in range(len(data_numpy)):\n",
    "    # Find the winner neuron\n",
    "    shortest_distance = np.inf\n",
    "    for i in range(len(model_weights)):\n",
    "        distance = np.linalg.norm(data_numpy[x]-model_weights[i])\n",
    "        if(distance < shortest_distance):\n",
    "            shortest_distance = distance\n",
    "            q = i\n",
    "    #print(f'the winner node is {q}')\n",
    "\n",
    "    # updating model weights\n",
    "    for j in range(len(model_weights)):\n",
    "        # compute neighborhood function\n",
    "        term = -(model_weights[j]-model_weights[q])**2/2*R(k)**2\n",
    "        h = np.exp(term)\n",
    "\n",
    "        model_weights[j] += eta(k)*h*(data_numpy[x]-model_weights[j])\n",
    "        model_weights[j] = np.round_(model_weights[j],6)\n",
    "\n",
    "    for_plt.append(copy.deepcopy(model_weights))\n",
    "    history_weights[\"Iterations {0}\".format(x)] = model_weights.tolist()"
   ],
   "metadata": {
    "collapsed": false,
    "pycharm": {
     "name": "#%%\n"
    }
   }
  },
  {
   "cell_type": "code",
   "execution_count": null,
   "outputs": [],
   "source": [
    "for_plt[1] - for_plt[0]"
   ],
   "metadata": {
    "collapsed": false,
    "pycharm": {
     "name": "#%%\n"
    }
   }
  },
  {
   "cell_type": "markdown",
   "source": [
    "### d. 將其餘的資料點代入網路，計算網路各神經元之權重改變量。"
   ],
   "metadata": {
    "collapsed": false,
    "pycharm": {
     "name": "#%% md\n"
    }
   }
  },
  {
   "cell_type": "code",
   "execution_count": null,
   "outputs": [],
   "source": [
    "history_weights"
   ],
   "metadata": {
    "collapsed": false,
    "pycharm": {
     "name": "#%%\n"
    }
   }
  },
  {
   "cell_type": "code",
   "execution_count": null,
   "outputs": [],
   "source": [
    "from IPython import display\n",
    "%matplotlib inline\n",
    "\n",
    "fig = plt.figure()\n",
    "# plt.ion()\n",
    "\n",
    "for index in range(len(for_plt)):\n",
    "    fig.clf()\n",
    "    plt.title(f\"Scatter Diagram of Model Weights at Iteration: {index}\\nrecommend to run on Jupyter Notebook for animation. \")\n",
    "\n",
    "    plt.scatter(for_plt[index][:,0],\n",
    "                for_plt[index][:,1])\n",
    "\n",
    "    # np.set_printoptions(precision=8)\n",
    "    plt.xlabel(\"X\")\n",
    "    plt.ylabel(\"Y\")\n",
    "    plt.xlim(0,2)\n",
    "    plt.ylim(0,2)\n",
    "    plt.grid(True)\n",
    "\n",
    "    display.clear_output(wait=True)\n",
    "    plt.pause(0.4)\n",
    "\n",
    "# plt.ioff()\n",
    "\n",
    "plt.show()"
   ],
   "metadata": {
    "collapsed": false,
    "pycharm": {
     "name": "#%%\n"
    }
   }
  }
 ],
 "metadata": {
  "kernelspec": {
   "display_name": "Python 3",
   "language": "python",
   "name": "python3"
  },
  "language_info": {
   "codemirror_mode": {
    "name": "ipython",
    "version": 2
   },
   "file_extension": ".py",
   "mimetype": "text/x-python",
   "name": "python",
   "nbconvert_exporter": "python",
   "pygments_lexer": "ipython2",
   "version": "2.7.6"
  }
 },
 "nbformat": 4,
 "nbformat_minor": 0
}