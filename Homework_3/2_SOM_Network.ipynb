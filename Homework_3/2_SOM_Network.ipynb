{
 "cells": [
  {
   "cell_type": "code",
   "execution_count": 10,
   "metadata": {
    "collapsed": true
   },
   "outputs": [],
   "source": [
    "import pandas as pd\n",
    "import matplotlib.pyplot as plt\n",
    "import numpy as np\n",
    "import copy"
   ]
  },
  {
   "cell_type": "code",
   "execution_count": 11,
   "outputs": [
    {
     "data": {
      "text/plain": "     X1   X2\n1   1.6  0.7\n2   0.2  0.2\n3   0.9  0.6\n4   1.8  1.9\n5   0.2  1.9\n6   0.1  1.2\n7   1.8  0.6\n8   0.8  0.9\n9   0.7  0.3\n10  1.3  0.2",
      "text/html": "<div>\n<style scoped>\n    .dataframe tbody tr th:only-of-type {\n        vertical-align: middle;\n    }\n\n    .dataframe tbody tr th {\n        vertical-align: top;\n    }\n\n    .dataframe thead th {\n        text-align: right;\n    }\n</style>\n<table border=\"1\" class=\"dataframe\">\n  <thead>\n    <tr style=\"text-align: right;\">\n      <th></th>\n      <th>X1</th>\n      <th>X2</th>\n    </tr>\n  </thead>\n  <tbody>\n    <tr>\n      <th>1</th>\n      <td>1.6</td>\n      <td>0.7</td>\n    </tr>\n    <tr>\n      <th>2</th>\n      <td>0.2</td>\n      <td>0.2</td>\n    </tr>\n    <tr>\n      <th>3</th>\n      <td>0.9</td>\n      <td>0.6</td>\n    </tr>\n    <tr>\n      <th>4</th>\n      <td>1.8</td>\n      <td>1.9</td>\n    </tr>\n    <tr>\n      <th>5</th>\n      <td>0.2</td>\n      <td>1.9</td>\n    </tr>\n    <tr>\n      <th>6</th>\n      <td>0.1</td>\n      <td>1.2</td>\n    </tr>\n    <tr>\n      <th>7</th>\n      <td>1.8</td>\n      <td>0.6</td>\n    </tr>\n    <tr>\n      <th>8</th>\n      <td>0.8</td>\n      <td>0.9</td>\n    </tr>\n    <tr>\n      <th>9</th>\n      <td>0.7</td>\n      <td>0.3</td>\n    </tr>\n    <tr>\n      <th>10</th>\n      <td>1.3</td>\n      <td>0.2</td>\n    </tr>\n  </tbody>\n</table>\n</div>"
     },
     "execution_count": 11,
     "metadata": {},
     "output_type": "execute_result"
    }
   ],
   "source": [
    "data = pd.read_csv(\"data.csv\", index_col=0)\n",
    "data"
   ],
   "metadata": {
    "collapsed": false,
    "pycharm": {
     "name": "#%%\n"
    }
   }
  },
  {
   "cell_type": "code",
   "execution_count": 12,
   "outputs": [],
   "source": [
    "data_numpy = data.to_numpy()\n",
    "# data_numpy"
   ],
   "metadata": {
    "collapsed": false,
    "pycharm": {
     "name": "#%%\n"
    }
   }
  },
  {
   "cell_type": "markdown",
   "source": [
    "### a. 將10比資料點化在（x,y）座標圖上，並描述其聚類情況"
   ],
   "metadata": {
    "collapsed": false,
    "pycharm": {
     "name": "#%% md\n"
    }
   }
  },
  {
   "cell_type": "code",
   "execution_count": 13,
   "outputs": [
    {
     "data": {
      "text/plain": "<Figure size 432x288 with 1 Axes>",
      "image/png": "[encoded data removed]"
     },
     "metadata": {
      "needs_background": "light"
     },
     "output_type": "display_data"
    }
   ],
   "source": [
    "plt.title(\"Scatter Diagram of the data\")\n",
    "plt.xlabel(\"X\")\n",
    "plt.ylabel(\"Y\")\n",
    "plt.scatter(data_numpy[:,0],\n",
    "            data_numpy[:,1])\n",
    "plt.grid(True)\n",
    "plt.show()"
   ],
   "metadata": {
    "collapsed": false,
    "pycharm": {
     "name": "#%%\n"
    }
   }
  },
  {
   "cell_type": "code",
   "execution_count": 14,
   "outputs": [
    {
     "name": "stdout",
     "output_type": "stream",
     "text": [
      "centroids:[[0.78       0.44      ]\n",
      " [0.15       1.55      ]\n",
      " [1.73333333 1.06666667]]\n"
     ]
    },
    {
     "data": {
      "text/plain": "<Figure size 432x288 with 1 Axes>",
      "image/png": "[encoded data removed]"
     },
     "metadata": {
      "needs_background": "light"
     },
     "output_type": "display_data"
    }
   ],
   "source": [
    "from sklearn.cluster import KMeans\n",
    "\n",
    "AMOUNT_OF_CENTERS = 3\n",
    "kmeans = KMeans(n_clusters=AMOUNT_OF_CENTERS)\n",
    "kmeans.fit(data)\n",
    "\n",
    "labels = kmeans.predict(data)\n",
    "centroids = kmeans.cluster_centers_\n",
    "print(f'centroids:{centroids}')\n",
    "fig = plt.figure()\n",
    "\n",
    "# 宣告 colmap\n",
    "colmap = {1:'r', 2:'g', 3:'b', 4:'c', 5:'y'}\n",
    "colors = map(lambda x: colmap[x+1], labels)\n",
    "\n",
    "plt.scatter(data['X1'], data['X2'], color=list(colors), alpha=0.5, edgecolors='k')\n",
    "for idx, centroid in enumerate(centroids):\n",
    "    plt.scatter(*centroid, color=colmap[idx+1])\n",
    "plt.xlim(0, 2)\n",
    "plt.ylim(0, 2)\n",
    "plt.show()"
   ],
   "metadata": {
    "collapsed": false,
    "pycharm": {
     "name": "#%%\n"
    }
   }
  },
  {
   "cell_type": "code",
   "execution_count": 15,
   "outputs": [
    {
     "data": {
      "text/plain": "    X1   X2\n1  1.1  1.2\n2  1.3  1.4\n3  0.8  1.2\n4  0.5  0.3\n5  1.6  0.9\n6  1.1  1.8\n7  0.6  0.9\n8  0.2  1.8\n9  1.3  0.5",
      "text/html": "<div>\n<style scoped>\n    .dataframe tbody tr th:only-of-type {\n        vertical-align: middle;\n    }\n\n    .dataframe tbody tr th {\n        vertical-align: top;\n    }\n\n    .dataframe thead th {\n        text-align: right;\n    }\n</style>\n<table border=\"1\" class=\"dataframe\">\n  <thead>\n    <tr style=\"text-align: right;\">\n      <th></th>\n      <th>X1</th>\n      <th>X2</th>\n    </tr>\n  </thead>\n  <tbody>\n    <tr>\n      <th>1</th>\n      <td>1.1</td>\n      <td>1.2</td>\n    </tr>\n    <tr>\n      <th>2</th>\n      <td>1.3</td>\n      <td>1.4</td>\n    </tr>\n    <tr>\n      <th>3</th>\n      <td>0.8</td>\n      <td>1.2</td>\n    </tr>\n    <tr>\n      <th>4</th>\n      <td>0.5</td>\n      <td>0.3</td>\n    </tr>\n    <tr>\n      <th>5</th>\n      <td>1.6</td>\n      <td>0.9</td>\n    </tr>\n    <tr>\n      <th>6</th>\n      <td>1.1</td>\n      <td>1.8</td>\n    </tr>\n    <tr>\n      <th>7</th>\n      <td>0.6</td>\n      <td>0.9</td>\n    </tr>\n    <tr>\n      <th>8</th>\n      <td>0.2</td>\n      <td>1.8</td>\n    </tr>\n    <tr>\n      <th>9</th>\n      <td>1.3</td>\n      <td>0.5</td>\n    </tr>\n  </tbody>\n</table>\n</div>"
     },
     "execution_count": 15,
     "metadata": {},
     "output_type": "execute_result"
    }
   ],
   "source": [
    "initial_weights = pd.read_csv(\"initial_weights.csv\", index_col=0)\n",
    "history_weights = initial_weights\n",
    "initial_weights"
   ],
   "metadata": {
    "collapsed": false,
    "pycharm": {
     "name": "#%%\n"
    }
   }
  },
  {
   "cell_type": "code",
   "execution_count": 16,
   "outputs": [],
   "source": [
    "initial_weights_nparray = initial_weights.to_numpy()\n",
    "\n",
    "model_weights = initial_weights_nparray"
   ],
   "metadata": {
    "collapsed": false,
    "pycharm": {
     "name": "#%%\n"
    }
   }
  },
  {
   "cell_type": "markdown",
   "source": [
    "### b. 初始權重在（x,y）座標圖上之分布情形"
   ],
   "metadata": {
    "collapsed": false,
    "pycharm": {
     "name": "#%% md\n"
    }
   }
  },
  {
   "cell_type": "code",
   "execution_count": 17,
   "outputs": [
    {
     "data": {
      "text/plain": "<Figure size 432x288 with 1 Axes>",
      "image/png": "[encoded data removed]"
     },
     "metadata": {
      "needs_background": "light"
     },
     "output_type": "display_data"
    }
   ],
   "source": [
    "plt.title(\"Scatter Diagram of the initial weights of SOMNN\")\n",
    "plt.xlabel(\"X\")\n",
    "plt.ylabel(\"Y\")\n",
    "plt.scatter(initial_weights_nparray[:,0],\n",
    "            initial_weights_nparray[:,1])\n",
    "plt.grid(True)\n",
    "plt.show()\n"
   ],
   "metadata": {
    "collapsed": false,
    "pycharm": {
     "name": "#%%\n"
    }
   }
  },
  {
   "cell_type": "markdown",
   "source": [
    "### c.\n",
    "* 若網路之學習速率為1.0、初始鄰近半徑為2.0，\n",
    "並採逐例學習，當第一個資料點（1.6,0.7）代入網路學習時，\n",
    "請找出網路之優勝神經元，並計算各神經元之權重改變量。"
   ],
   "metadata": {
    "collapsed": false,
    "pycharm": {
     "name": "#%% md\n"
    }
   }
  },
  {
   "cell_type": "code",
   "execution_count": 18,
   "outputs": [],
   "source": [
    "from numpy.linalg import norm\n",
    "\n",
    "# learning rate\n",
    "lr = 1.0\n",
    "\n",
    "# radius of neighborhood\n",
    "radius = 2.0\n",
    "\n",
    "# constant\n",
    "tau_1 = 1000/np.log(radius)\n",
    "\n",
    "k = 1\n",
    "def R(k):\n",
    "    return radius*np.exp(-k/tau_1)\n",
    "\n",
    "def eta(k):\n",
    "    return lr*np.exp(-k/1000)   # tau_2 = 1000\n",
    "\n",
    "for_plt = []\n",
    "for_plt.append(model_weights)\n",
    "\n",
    "for x in range(len(data_numpy)):\n",
    "    # Find the winner neuron\n",
    "    shortest_distance = np.inf\n",
    "    for i in range(len(model_weights)):\n",
    "        distance = np.linalg.norm(data_numpy[x]-model_weights[i])\n",
    "        if(distance < shortest_distance):\n",
    "            shortest_distance = distance\n",
    "            q = i\n",
    "    #print(f'the winner node is {q}')\n",
    "\n",
    "    # updating model weights\n",
    "    for j in range(len(model_weights)):\n",
    "        # compute neighborhood function\n",
    "        term = -(model_weights[j]-model_weights[q])**2/2*R(k)**2\n",
    "        h = np.exp(term)\n",
    "\n",
    "        model_weights[j] += eta(k)*h*(data_numpy[x]-model_weights[j])\n",
    "        model_weights[j] = np.round_(model_weights[j],6)\n",
    "\n",
    "    for_plt.append(copy.deepcopy(model_weights))\n",
    "    history_weights[\"Iterations {0}\".format(x)] = model_weights.tolist()"
   ],
   "metadata": {
    "collapsed": false,
    "pycharm": {
     "name": "#%%\n"
    }
   }
  },
  {
   "cell_type": "code",
   "execution_count": 19,
   "outputs": [
    {
     "data": {
      "text/plain": "array([[ 0.102866,  0.582577],\n       [ 0.197603,  0.773452],\n       [-0.338825,  0.580571],\n       [-0.393914,  0.292593],\n       [ 0.285603,  0.410133],\n       [ 0.089374,  0.609873],\n       [-0.206221,  0.422647],\n       [-0.715405,  1.328345],\n       [ 0.23163 ,  0.408221]])"
     },
     "execution_count": 19,
     "metadata": {},
     "output_type": "execute_result"
    }
   ],
   "source": [
    "for_plt[1] - for_plt[0]"
   ],
   "metadata": {
    "collapsed": false,
    "pycharm": {
     "name": "#%%\n"
    }
   }
  },
  {
   "cell_type": "markdown",
   "source": [
    "### d. 將其餘的資料點代入網路，計算網路各神經元之權重改變量。"
   ],
   "metadata": {
    "collapsed": false,
    "pycharm": {
     "name": "#%% md\n"
    }
   }
  },
  {
   "cell_type": "code",
   "execution_count": 20,
   "outputs": [
    {
     "data": {
      "text/plain": "         X1        X2          Iterations 0          Iterations 1  \\\n1  1.300306  0.200101  [1.403172, 0.782678]  [1.073845, 0.289435]   \n2  1.352790  0.202107  [1.550393, 0.975559]  [1.329931, 0.487335]   \n3  1.361427  0.202107  [1.022602, 0.782678]  [0.449265, 0.289435]   \n4  0.991958  0.202107    [0.598044, 0.4947]  [0.200398, 0.200295]   \n5  1.314397  0.290067         [1.6, 0.7002]  [1.572037, 0.396849]   \n6  1.313798  1.091997   [1.403172, 1.70187]  [1.336326, 1.685256]   \n7  0.941796  0.292864  [0.735575, 0.715511]   [0.433612, 0.41243]   \n8  0.943306  0.373525   [0.227901, 1.70187]   [0.20007, 1.685256]   \n9  1.318763  0.276209   [1.550393, 0.68443]  [1.514975, 0.381395]   \n\n           Iterations 2          Iterations 3          Iterations 4  \\\n1   [0.900174, 0.59969]  [1.765531, 0.788595]  [1.701538, 0.909733]   \n2  [1.032924, 0.597085]    [1.79919, 0.78444]    [1.74417, 0.90392]   \n3  [0.749272, 0.545426]  [1.637734, 0.703533]  [1.529231, 0.793403]   \n4  [0.463225, 0.490659]  [1.153231, 0.620993]     [0.7466, 0.68611]   \n5  [1.299503, 0.583787]  [1.735768, 0.763342]  [1.662932, 0.874604]   \n6  [1.038217, 1.582235]  [1.799239, 1.899682]  [1.744231, 1.899998]   \n7   [0.73526, 0.587138]   [0.846148, 0.62916]  [0.337678, 0.696481]   \n8  [0.462779, 1.582235]   [0.500494, 1.84181]    [0.2003, 1.899942]   \n9  [1.226194, 0.579955]  [1.523702, 0.620641]   [1.483687, 0.66928]   \n\n           Iterations 5          Iterations 6          Iterations 7  \\\n1  [1.662574, 1.174533]   [1.78838, 0.645858]    [1.7693, 0.899652]   \n2  [1.712574, 1.175345]  [1.788952, 0.646272]  [1.769922, 0.899658]   \n3  [1.445448, 1.192044]     [1.7996, 0.65526]  [1.781486, 0.899747]   \n4  [0.284049, 1.199376]  [0.382698, 0.659498]   [0.799583, 0.89976]   \n5  [1.616146, 1.179715]  [1.790359, 0.648535]  [1.651075, 0.869997]   \n6  [1.712645, 1.861246]   [1.788955, 1.60184]  [1.649094, 1.339868]   \n7  [0.100238, 1.199497]   [0.144051, 0.65957]  [0.421831, 0.873619]   \n8  [0.102084, 1.637479]  [0.146288, 1.209873]  [0.424744, 0.954407]   \n9  [1.453454, 0.971681]  [1.799654, 0.600371]  [1.664164, 0.850637]   \n\n           Iterations 8          Iterations 9  \n1  [1.605988, 0.300599]  [1.300306, 0.200101]  \n2  [1.606908, 0.300599]   [1.35279, 0.202107]  \n3  [1.623975, 0.300599]  [1.361427, 0.202107]  \n4    [0.7001, 0.300599]  [0.991958, 0.202107]  \n5  [1.494991, 0.571995]  [1.314397, 0.290067]  \n6   [1.49216, 1.219725]  [1.313798, 1.091997]  \n7  [0.659904, 0.576191]  [0.941796, 0.292864]  \n8  [0.661084, 0.676028]  [0.943306, 0.373525]  \n9  [1.513659, 0.550022]  [1.318763, 0.276209]  ",
      "text/html": "<div>\n<style scoped>\n    .dataframe tbody tr th:only-of-type {\n        vertical-align: middle;\n    }\n\n    .dataframe tbody tr th {\n        vertical-align: top;\n    }\n\n    .dataframe thead th {\n        text-align: right;\n    }\n</style>\n<table border=\"1\" class=\"dataframe\">\n  <thead>\n    <tr style=\"text-align: right;\">\n      <th></th>\n      <th>X1</th>\n      <th>X2</th>\n      <th>Iterations 0</th>\n      <th>Iterations 1</th>\n      <th>Iterations 2</th>\n      <th>Iterations 3</th>\n      <th>Iterations 4</th>\n      <th>Iterations 5</th>\n      <th>Iterations 6</th>\n      <th>Iterations 7</th>\n      <th>Iterations 8</th>\n      <th>Iterations 9</th>\n    </tr>\n  </thead>\n  <tbody>\n    <tr>\n      <th>1</th>\n      <td>1.300306</td>\n      <td>0.200101</td>\n      <td>[1.403172, 0.782678]</td>\n      <td>[1.073845, 0.289435]</td>\n      <td>[0.900174, 0.59969]</td>\n      <td>[1.765531, 0.788595]</td>\n      <td>[1.701538, 0.909733]</td>\n      <td>[1.662574, 1.174533]</td>\n      <td>[1.78838, 0.645858]</td>\n      <td>[1.7693, 0.899652]</td>\n      <td>[1.605988, 0.300599]</td>\n      <td>[1.300306, 0.200101]</td>\n    </tr>\n    <tr>\n      <th>2</th>\n      <td>1.352790</td>\n      <td>0.202107</td>\n      <td>[1.550393, 0.975559]</td>\n      <td>[1.329931, 0.487335]</td>\n      <td>[1.032924, 0.597085]</td>\n      <td>[1.79919, 0.78444]</td>\n      <td>[1.74417, 0.90392]</td>\n      <td>[1.712574, 1.175345]</td>\n      <td>[1.788952, 0.646272]</td>\n      <td>[1.769922, 0.899658]</td>\n      <td>[1.606908, 0.300599]</td>\n      <td>[1.35279, 0.202107]</td>\n    </tr>\n    <tr>\n      <th>3</th>\n      <td>1.361427</td>\n      <td>0.202107</td>\n      <td>[1.022602, 0.782678]</td>\n      <td>[0.449265, 0.289435]</td>\n      <td>[0.749272, 0.545426]</td>\n      <td>[1.637734, 0.703533]</td>\n      <td>[1.529231, 0.793403]</td>\n      <td>[1.445448, 1.192044]</td>\n      <td>[1.7996, 0.65526]</td>\n      <td>[1.781486, 0.899747]</td>\n      <td>[1.623975, 0.300599]</td>\n      <td>[1.361427, 0.202107]</td>\n    </tr>\n    <tr>\n      <th>4</th>\n      <td>0.991958</td>\n      <td>0.202107</td>\n      <td>[0.598044, 0.4947]</td>\n      <td>[0.200398, 0.200295]</td>\n      <td>[0.463225, 0.490659]</td>\n      <td>[1.153231, 0.620993]</td>\n      <td>[0.7466, 0.68611]</td>\n      <td>[0.284049, 1.199376]</td>\n      <td>[0.382698, 0.659498]</td>\n      <td>[0.799583, 0.89976]</td>\n      <td>[0.7001, 0.300599]</td>\n      <td>[0.991958, 0.202107]</td>\n    </tr>\n    <tr>\n      <th>5</th>\n      <td>1.314397</td>\n      <td>0.290067</td>\n      <td>[1.6, 0.7002]</td>\n      <td>[1.572037, 0.396849]</td>\n      <td>[1.299503, 0.583787]</td>\n      <td>[1.735768, 0.763342]</td>\n      <td>[1.662932, 0.874604]</td>\n      <td>[1.616146, 1.179715]</td>\n      <td>[1.790359, 0.648535]</td>\n      <td>[1.651075, 0.869997]</td>\n      <td>[1.494991, 0.571995]</td>\n      <td>[1.314397, 0.290067]</td>\n    </tr>\n    <tr>\n      <th>6</th>\n      <td>1.313798</td>\n      <td>1.091997</td>\n      <td>[1.403172, 1.70187]</td>\n      <td>[1.336326, 1.685256]</td>\n      <td>[1.038217, 1.582235]</td>\n      <td>[1.799239, 1.899682]</td>\n      <td>[1.744231, 1.899998]</td>\n      <td>[1.712645, 1.861246]</td>\n      <td>[1.788955, 1.60184]</td>\n      <td>[1.649094, 1.339868]</td>\n      <td>[1.49216, 1.219725]</td>\n      <td>[1.313798, 1.091997]</td>\n    </tr>\n    <tr>\n      <th>7</th>\n      <td>0.941796</td>\n      <td>0.292864</td>\n      <td>[0.735575, 0.715511]</td>\n      <td>[0.433612, 0.41243]</td>\n      <td>[0.73526, 0.587138]</td>\n      <td>[0.846148, 0.62916]</td>\n      <td>[0.337678, 0.696481]</td>\n      <td>[0.100238, 1.199497]</td>\n      <td>[0.144051, 0.65957]</td>\n      <td>[0.421831, 0.873619]</td>\n      <td>[0.659904, 0.576191]</td>\n      <td>[0.941796, 0.292864]</td>\n    </tr>\n    <tr>\n      <th>8</th>\n      <td>0.943306</td>\n      <td>0.373525</td>\n      <td>[0.227901, 1.70187]</td>\n      <td>[0.20007, 1.685256]</td>\n      <td>[0.462779, 1.582235]</td>\n      <td>[0.500494, 1.84181]</td>\n      <td>[0.2003, 1.899942]</td>\n      <td>[0.102084, 1.637479]</td>\n      <td>[0.146288, 1.209873]</td>\n      <td>[0.424744, 0.954407]</td>\n      <td>[0.661084, 0.676028]</td>\n      <td>[0.943306, 0.373525]</td>\n    </tr>\n    <tr>\n      <th>9</th>\n      <td>1.318763</td>\n      <td>0.276209</td>\n      <td>[1.550393, 0.68443]</td>\n      <td>[1.514975, 0.381395]</td>\n      <td>[1.226194, 0.579955]</td>\n      <td>[1.523702, 0.620641]</td>\n      <td>[1.483687, 0.66928]</td>\n      <td>[1.453454, 0.971681]</td>\n      <td>[1.799654, 0.600371]</td>\n      <td>[1.664164, 0.850637]</td>\n      <td>[1.513659, 0.550022]</td>\n      <td>[1.318763, 0.276209]</td>\n    </tr>\n  </tbody>\n</table>\n</div>"
     },
     "execution_count": 20,
     "metadata": {},
     "output_type": "execute_result"
    }
   ],
   "source": [
    "history_weights"
   ],
   "metadata": {
    "collapsed": false,
    "pycharm": {
     "name": "#%%\n"
    }
   }
  },
  {
   "cell_type": "code",
   "execution_count": 21,
   "outputs": [
    {
     "data": {
      "text/plain": "<Figure size 432x288 with 1 Axes>",
      "image/png": "[encoded data removed]"
     },
     "metadata": {
      "needs_background": "light"
     },
     "output_type": "display_data"
    }
   ],
   "source": [
    "from IPython import display\n",
    "%matplotlib inline\n",
    "\n",
    "fig = plt.figure()\n",
    "# plt.ion()\n",
    "\n",
    "for index in range(len(for_plt)):\n",
    "    fig.clf()\n",
    "    plt.title(f\"Scatter Diagram of Model Weights at Iteration: {index}\\nrecommend to run on Jupyter Notebook for animation. \")\n",
    "\n",
    "    plt.scatter(for_plt[index][:,0],\n",
    "                for_plt[index][:,1])\n",
    "\n",
    "    # np.set_printoptions(precision=8)\n",
    "    plt.xlabel(\"X\")\n",
    "    plt.ylabel(\"Y\")\n",
    "    plt.xlim(0,2)\n",
    "    plt.ylim(0,2)\n",
    "    plt.grid(True)\n",
    "\n",
    "    display.clear_output(wait=True)\n",
    "    plt.pause(0.4)\n",
    "\n",
    "# plt.ioff()\n",
    "\n",
    "plt.show()"
   ],
   "metadata": {
    "collapsed": false,
    "pycharm": {
     "name": "#%%\n"
    }
   }
  }
 ],
 "metadata": {
  "kernelspec": {
   "display_name": "Python 3",
   "language": "python",
   "name": "python3"
  },
  "language_info": {
   "codemirror_mode": {
    "name": "ipython",
    "version": 2
   },
   "file_extension": ".py",
   "mimetype": "text/x-python",
   "name": "python",
   "nbconvert_exporter": "python",
   "pygments_lexer": "ipython2",
   "version": "2.7.6"
  }
 },
 "nbformat": 4,
 "nbformat_minor": 0
}