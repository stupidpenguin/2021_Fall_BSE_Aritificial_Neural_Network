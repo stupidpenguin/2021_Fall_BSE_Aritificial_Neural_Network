{
 "cells": [
  {
   "cell_type": "code",
   "execution_count": 1,
   "metadata": {
    "collapsed": true
   },
   "outputs": [],
   "source": [
    "# -*- coding: utf-8 -*-\n",
    "\"\"\"\n",
    "Created on Tue Oct 29 10:54:56 2019\n",
    "\n",
    "@author: steve\n",
    "\"\"\"\n",
    "\n",
    "import math\n",
    "import pandas as pd\n",
    "import numpy as np\n",
    "import numpy.random as random\n",
    "import matplotlib.pyplot as plt"
   ]
  },
  {
   "cell_type": "code",
   "execution_count": 2,
   "outputs": [
    {
     "name": "stderr",
     "output_type": "stream",
     "text": [
      "<>:36: SyntaxWarning: \"is\" with a literal. Did you mean \"==\"?\n",
      "<>:49: SyntaxWarning: \"is\" with a literal. Did you mean \"==\"?\n",
      "<>:36: SyntaxWarning: \"is\" with a literal. Did you mean \"==\"?\n",
      "<>:49: SyntaxWarning: \"is\" with a literal. Did you mean \"==\"?\n",
      "<ipython-input-2-48126ac5646c>:36: SyntaxWarning: \"is\" with a literal. Did you mean \"==\"?\n",
      "  if criteria is 1:\n",
      "<ipython-input-2-48126ac5646c>:49: SyntaxWarning: \"is\" with a literal. Did you mean \"==\"?\n",
      "  elif criteria is 2:\n"
     ]
    }
   ],
   "source": [
    "#建立substractive clustering algorithm\n",
    "#以下的code是根據 https://github.com/bhaveshkumarraj/Subtractive-Clustering-Algorithm/blob/master/code.py 去改寫\n",
    "def substractive_clustering_algorithm(input_data,ra,rb,Eup,Edown):\n",
    "    cluster_center = []\n",
    "    size = len(input_data)\n",
    "    potential = [0.0] * size\n",
    "    for i in range(size):\n",
    "        Xi = input_data[i]\n",
    "        for j in range(i + 1, size):\n",
    "            Xj = input_data[j]\n",
    "            value = np.exp(-4* ((Xi[0] - Xj[0]) ** 2 + (Xi[1] - Xj[1]) ** 2 ) / (ra / 2) ** 2)\n",
    "            potential[i] += value\n",
    "            potential[j] += value\n",
    "    max_potential_value = max(potential)  # p1\n",
    "    max_potential_index = potential.index(max_potential_value)\n",
    "\n",
    "    # filter through accept and reject criteria\n",
    "    current_max_value = max_potential_value\n",
    "    criteria = 1\n",
    "    while criteria and current_max_value:\n",
    "        criteria = 0\n",
    "        max_potential_vector = input_data[max_potential_index]  # x1\n",
    "        potential_ratio = current_max_value / max_potential_value  # Pk and MaxPValue\n",
    "\n",
    "        if potential_ratio > Eup:\n",
    "            criteria = 1\n",
    "        elif potential_ratio > Edown:\n",
    "            dmin = np.min([(max_potential_vector[0] - cc[0]) ** 2 + (max_potential_vector[1] - cc[1]) ** 2 for cc in cluster_center])\n",
    "            if ((dmin / ra) + potential_ratio) >= 1:\n",
    "                criteria = 1\n",
    "            else:\n",
    "                criteria = 2\n",
    "        elif potential_ratio < Edown:\n",
    "            break\n",
    "\n",
    "        if criteria is 1:\n",
    "            cluster_center.append(max_potential_vector)\n",
    "            for i in range(size):\n",
    "                Xj = input_data[i]\n",
    "                potential_value = potential[i]\n",
    "                potential_value = potential_value - (current_max_value * np.exp(-4*\n",
    "                                                    ((max_potential_vector[0] - Xj[0]) ** 2 +\n",
    "                                                    (max_potential_vector[1] - Xj[1]) ** 2 )) / (rb / 2) ** 2)\n",
    "                if potential_value < 0:\n",
    "                    potential_value = 0\n",
    "                potential[i] = potential_value\n",
    "            current_max_value = max(potential)  # p1\n",
    "            max_potential_index = potential.index(current_max_value)\n",
    "        elif criteria is 2:\n",
    "            potential[max_potential_index] = 0\n",
    "            current_max_value = max(potential)  # p1\n",
    "            max_potential_index = potential.index(current_max_value)\n",
    "\n",
    "    return cluster_center"
   ],
   "metadata": {
    "collapsed": false,
    "pycharm": {
     "name": "#%%\n"
    }
   }
  },
  {
   "cell_type": "code",
   "execution_count": 3,
   "outputs": [],
   "source": [
    "#輸入資料之函數\n",
    "def x1(a1,b1):\n",
    "    x1=math.sin(a1)*math.cos(b1)\n",
    "    return x1\n",
    "\n",
    "def y1(a1,b1):\n",
    "    y1=math.sin(a1)*math.sin(b1)\n",
    "    return y1\n",
    "\n",
    "def x2(a2,b2):\n",
    "    x2=math.sin(a2)*math.cos(b2)\n",
    "    return x2\n",
    "\n",
    "def y2(a2,b2):\n",
    "    y2=math.sin(a2)*math.sin(b2)\n",
    "    return y2\n",
    "\n",
    "def x3(a3,b3):\n",
    "    x3=math.sin(a3)*math.cos(b3)\n",
    "    return x3\n",
    "\n",
    "def y3(a3,b3):\n",
    "    y3=math.sin(a3)*math.sin(b3)\n",
    "    return y3"
   ],
   "metadata": {
    "collapsed": false,
    "pycharm": {
     "name": "#%%\n"
    }
   }
  },
  {
   "cell_type": "code",
   "execution_count": 4,
   "outputs": [],
   "source": [
    "#原本上面定義的函數不接受array,通過vectorize便能夠輸入矩陣進入變數裏面\n",
    "x1=np.vectorize(x1)\n",
    "y1=np.vectorize(y1)\n",
    "x2=np.vectorize(x2)\n",
    "y2=np.vectorize(y2)\n",
    "x3=np.vectorize(x3)\n",
    "y3=np.vectorize(y3)\n",
    "\n",
    "a1=-math.pi/4+(math.pi/2)*random.uniform(0,1,20)\n",
    "b1=2*math.pi*random.uniform(0,1,20)\n",
    "sdev1=0.6*random.uniform(0,1,20)\n",
    "sdev2=0.6*random.uniform(0,1,20)\n",
    "output1=x1(a1,b1)+sdev1\n",
    "output2=y1(a1,b1)+sdev2\n",
    "\n",
    "a2=(math.pi/4)+((2*math.pi)/4)*random.uniform(0,1,20)\n",
    "b2=(-math.pi/2)+(math.pi)*random.uniform(1,20)\n",
    "sdev3=0.6*random.uniform(0,1,20)\n",
    "sdev4=0.6*random.uniform(0,1,20)\n",
    "output3=x2(a2,b2)+sdev3\n",
    "output4=y2(a2,b2)+sdev4\n",
    "\n",
    "a3=(-math.pi/2)+((4*math.pi)/2)*random.uniform(0,1,20)\n",
    "b3=(-math.pi/2)+(4*math.pi/4)*random.uniform(0,1,20)\n",
    "sdev5=0.6*random.uniform(0,1,20)\n",
    "sdev6=0.6*random.uniform(0,1,20)\n",
    "output5=x3(a3,b3)+sdev5\n",
    "output6=y3(a3,b3)+sdev6\n",
    "\n",
    "X_1=np.hstack((output1,output3,output5))\n",
    "X_2=np.hstack((output2,output4,output6))\n",
    "x=np.vstack((X_1,X_2))\n",
    "x=np.transpose(x)"
   ],
   "metadata": {
    "collapsed": false,
    "pycharm": {
     "name": "#%%\n"
    }
   }
  },
  {
   "cell_type": "code",
   "execution_count": 21,
   "outputs": [
    {
     "name": "stderr",
     "output_type": "stream",
     "text": [
      "No handles with labels found to put in legend.\n"
     ]
    },
    {
     "data": {
      "text/plain": "Text(0.5, 1.0, 'K-means')"
     },
     "execution_count": 21,
     "metadata": {},
     "output_type": "execute_result"
    },
    {
     "data": {
      "text/plain": "<Figure size 432x288 with 1 Axes>",
      "image/png": "[encoded data removed]"
     },
     "metadata": {
      "needs_background": "light"
     },
     "output_type": "display_data"
    }
   ],
   "source": [
    "#K-means classification\n",
    "#接下來匯入KMeans函式庫\n",
    "from sklearn.cluster import KMeans #安裝 k-means 套件方式: pip install sklearn\n",
    "#請KMeans分成四類\n",
    "clf = KMeans(n_clusters=4)\n",
    "#開始訓練\n",
    "clf.fit(x)\n",
    "#分類結果\n",
    "km_labels = clf.labels_ #分成哪一類\n",
    "km_centers = clf.cluster_centers_ #四組分類的中心點\n",
    "\n",
    "plt.scatter(x[:,0],x[:,1], c=km_labels,s=50,cmap='copper')\n",
    "plt.scatter(km_centers[:, 0], km_centers[:, 1], c='black', s=150, marker='x', alpha=0.5);\n",
    "plt.grid(True)\n",
    "plt.legend()\n",
    "plt.title('K-means')\n"
   ],
   "metadata": {
    "collapsed": false,
    "pycharm": {
     "name": "#%%\n"
    }
   }
  },
  {
   "cell_type": "code",
   "execution_count": 22,
   "outputs": [
    {
     "name": "stderr",
     "output_type": "stream",
     "text": [
      "No handles with labels found to put in legend.\n"
     ]
    },
    {
     "data": {
      "text/plain": "Text(0.5, 1.0, 'Fuzzy-c-means')"
     },
     "execution_count": 22,
     "metadata": {},
     "output_type": "execute_result"
    },
    {
     "data": {
      "text/plain": "<Figure size 432x288 with 1 Axes>",
      "image/png": "[encoded data removed]"
     },
     "metadata": {
      "needs_background": "light"
     },
     "output_type": "display_data"
    }
   ],
   "source": [
    "#Fuzzy-C means classification\n",
    "#接下來匯入Fuzzy C-Means函式庫\n",
    "from fcmeans import FCM #安裝 fuzzy-c-means 套件方式: pip install fuzzy-c-means\n",
    "#請KMeans分成四類\n",
    "fcm = FCM(n_clusters=4)\n",
    "#開始訓練\n",
    "fcm.fit(x)\n",
    "#分類結果\n",
    "fcm_centers = fcm.centers #分成哪一類\n",
    "fcm_labels  = fcm.u.argmax(axis=1) #四組分類的中心點\n",
    "plt.scatter(x[:,0],x[:,1], c=fcm_labels,s=50,cmap='viridis')\n",
    "plt.scatter(fcm_centers[:, 0], fcm_centers[:, 1], c='black', s=150, marker='x', alpha=0.5);\n",
    "plt.grid(True)\n",
    "plt.legend()\n",
    "plt.title('Fuzzy-c-means')"
   ],
   "metadata": {
    "collapsed": false,
    "pycharm": {
     "name": "#%%\n"
    }
   }
  },
  {
   "cell_type": "code",
   "execution_count": 27,
   "outputs": [
    {
     "data": {
      "text/plain": "<matplotlib.legend.Legend at 0x1a828509dc0>"
     },
     "execution_count": 27,
     "metadata": {},
     "output_type": "execute_result"
    },
    {
     "data": {
      "text/plain": "<Figure size 432x288 with 1 Axes>",
      "image/png": "[encoded data removed]"
     },
     "metadata": {
      "needs_background": "light"
     },
     "output_type": "display_data"
    }
   ],
   "source": [
    "#Substractive clustering\n",
    "ra = 0.45\n",
    "rb = ra * 1.5\n",
    "Eup = 0.5\n",
    "Edown = 0.15\n",
    "#套用在上方呼叫好的減法聚類函數\n",
    "sub_center=substractive_clustering_algorithm(x,ra,rb,Eup,Edown)\n",
    "\n",
    "plt.scatter(x[:,0],x[:,1],s=50,cmap='copper')\n",
    "for idx, centroid in enumerate(sub_center):\n",
    "    plt.scatter(*centroid, c='k', s=150, marker='x',label='Cluster '+str(idx+1))\n",
    "plt.title('Subtractive clusters')\n",
    "plt.grid(True)\n",
    "plt.legend()\n",
    "# plt.show()"
   ],
   "metadata": {
    "collapsed": false,
    "pycharm": {
     "name": "#%%\n"
    }
   }
  }
 ],
 "metadata": {
  "kernelspec": {
   "display_name": "Python 3",
   "language": "python",
   "name": "python3"
  },
  "language_info": {
   "codemirror_mode": {
    "name": "ipython",
    "version": 2
   },
   "file_extension": ".py",
   "mimetype": "text/x-python",
   "name": "python",
   "nbconvert_exporter": "python",
   "pygments_lexer": "ipython2",
   "version": "2.7.6"
  }
 },
 "nbformat": 4,
 "nbformat_minor": 0
}