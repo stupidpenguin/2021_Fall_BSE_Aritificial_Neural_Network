{
 "cells": [
  {
   "cell_type": "markdown",
   "source": [
    "#### Packages & Hyper-parameters"
   ],
   "metadata": {
    "collapsed": false,
    "pycharm": {
     "name": "#%% md\n"
    }
   }
  },
  {
   "cell_type": "code",
   "execution_count": 1,
   "outputs": [],
   "source": [
    "DATA_SZIE = 20\n",
    "AMOUNT_OF_CENTERS = 5\n",
    "import numpy as np\n",
    "import random\n",
    "random.seed(10)"
   ],
   "metadata": {
    "collapsed": false,
    "pycharm": {
     "name": "#%%\n"
    }
   }
  },
  {
   "cell_type": "markdown",
   "source": [
    "##### Setup Test Dataset"
   ],
   "metadata": {
    "collapsed": false
   }
  },
  {
   "cell_type": "code",
   "execution_count": 2,
   "outputs": [
    {
     "name": "stdout",
     "output_type": "stream",
     "text": [
      "[[5 4 8 7 2 4 1 4 8 6 6 4 6 1 4 7 8 3 7 3]\n",
      " [7 8 8 3 0 6 8 2 4 4 9 4 2 1 0 3 8 3 7 2]]\n"
     ]
    },
    {
     "data": {
      "text/plain": "<Figure size 432x288 with 1 Axes>",
      "image/png": "[encoded data removed]"
     },
     "metadata": {
      "needs_background": "light"
     },
     "output_type": "display_data"
    }
   ],
   "source": [
    "X = np.random.randint(10, size=DATA_SZIE)\n",
    "Y = np.random.randint(10, size=DATA_SZIE)\n",
    "data = [X,Y]\n",
    "data = np.array(data)\n",
    "print(data)\n",
    "\n",
    "import matplotlib.pyplot as plt\n",
    "plt.xlabel(\"X\")\n",
    "plt.ylabel(\"Y\")\n",
    "plt.xlim([0,10])\n",
    "plt.ylim([0,10])\n",
    "plt.scatter(data[0], data[1])\n",
    "plt.grid(True)\n",
    "plt.show()"
   ],
   "metadata": {
    "collapsed": false,
    "pycharm": {
     "name": "#%%\n"
    }
   }
  },
  {
   "cell_type": "markdown",
   "source": [
    "---\n",
    "##### K-means Clustering"
   ],
   "metadata": {
    "collapsed": false,
    "pycharm": {
     "name": "#%% md\n"
    }
   }
  },
  {
   "cell_type": "code",
   "execution_count": 3,
   "outputs": [],
   "source": [
    "from sklearn.cluster import KMeans\n",
    "import pandas as pd\n",
    "df = pd.DataFrame({\n",
    "    'X':data[0],\n",
    "    'Y':data[1]\n",
    "})"
   ],
   "metadata": {
    "collapsed": false,
    "pycharm": {
     "name": "#%%\n"
    }
   }
  },
  {
   "cell_type": "code",
   "execution_count": 4,
   "outputs": [
    {
     "name": "stdout",
     "output_type": "stream",
     "text": [
      "centroids:[[6.8        3.2       ]\n",
      " [2.33333333 0.33333333]\n",
      " [3.5        7.25      ]\n",
      " [7.25       8.        ]\n",
      " [3.5        2.75      ]]\n"
     ]
    },
    {
     "data": {
      "text/plain": "<Figure size 432x288 with 1 Axes>",
      "image/png": "[encoded data removed]"
     },
     "metadata": {
      "needs_background": "light"
     },
     "output_type": "display_data"
    }
   ],
   "source": [
    "kmeans = KMeans(n_clusters=AMOUNT_OF_CENTERS)\n",
    "kmeans.fit(df)\n",
    "\n",
    "labels = kmeans.predict(df)\n",
    "centroids = kmeans.cluster_centers_\n",
    "print(f'centroids:{centroids}')\n",
    "fig = plt.figure()\n",
    "\n",
    "# 宣告 colmap\n",
    "colmap = {1:'r', 2:'g', 3:'b', 4:'c', 5:'y'}\n",
    "colors = map(lambda x: colmap[x+1], labels)\n",
    "\n",
    "plt.scatter(df['X'], df['Y'], color=list(colors), alpha=0.5, edgecolors='k')\n",
    "for idx, centroid in enumerate(centroids):\n",
    "    plt.scatter(*centroid, color=colmap[idx+1])\n",
    "plt.xlim(0, 10)\n",
    "plt.ylim(0, 10)\n",
    "plt.show()\n"
   ],
   "metadata": {
    "collapsed": false,
    "pycharm": {
     "name": "#%%\n"
    }
   }
  },
  {
   "cell_type": "code",
   "execution_count": 5,
   "outputs": [],
   "source": [
    "# 向量形式的高斯函數\n",
    "from scipy.stats import multivariate_normal"
   ],
   "metadata": {
    "collapsed": false,
    "pycharm": {
     "name": "#%%\n"
    }
   }
  },
  {
   "cell_type": "code",
   "execution_count": 6,
   "outputs": [
    {
     "name": "stdout",
     "output_type": "stream",
     "text": [
      "covariance matrix: [[5.04210526 2.31052632]\n",
      " [2.31052632 8.57631579]]\n",
      "mean vector: [4.9  4.45]\n",
      "0.004759503802836132\n",
      "0.3989422804014327\n"
     ]
    }
   ],
   "source": [
    "import numpy as np\n",
    "covariance_matrix = np.cov(data)\n",
    "print(f'covariance matrix: {covariance_matrix}')\n",
    "mean_vector = data.mean(1)\n",
    "print(f'mean vector: {mean_vector}')\n",
    "\n",
    "x = [1, 1]\n",
    "y = multivariate_normal.pdf(x, mean=mean_vector, cov=covariance_matrix)\n",
    "print(y)\n",
    "\n",
    "a = multivariate_normal.pdf([0], mean=0, cov=[1])\n",
    "print(a)"
   ],
   "metadata": {
    "collapsed": false,
    "pycharm": {
     "name": "#%%\n"
    }
   }
  },
  {
   "cell_type": "code",
   "execution_count": 7,
   "outputs": [
    {
     "name": "stdout",
     "output_type": "stream",
     "text": [
      "20\n",
      "[5 7]\n",
      "0.017017992980776827\n"
     ]
    }
   ],
   "source": [
    "print(len(data[1]))\n",
    "print(data[:,0])\n",
    "x = multivariate_normal.pdf(data[:,0],mean=mean_vector,cov=covariance_matrix)\n",
    "print(x)"
   ],
   "metadata": {
    "collapsed": false,
    "pycharm": {
     "name": "#%%\n"
    }
   }
  },
  {
   "cell_type": "code",
   "execution_count": 8,
   "outputs": [
    {
     "ename": "AttributeError",
     "evalue": "'RBF_Layer' object has no attribute 'backward'",
     "output_type": "error",
     "traceback": [
      "\u001B[1;31m---------------------------------------------------------------------------\u001B[0m",
      "\u001B[1;31mAttributeError\u001B[0m                            Traceback (most recent call last)",
      "\u001B[1;32m<ipython-input-8-ed7563c5370c>\u001B[0m in \u001B[0;36m<module>\u001B[1;34m\u001B[0m\n\u001B[0;32m     70\u001B[0m         \u001B[0mloss\u001B[0m \u001B[1;33m=\u001B[0m \u001B[0moutputs\u001B[0m\u001B[1;33m\u001B[0m\u001B[1;33m\u001B[0m\u001B[0m\n\u001B[0;32m     71\u001B[0m         \u001B[0moptimizer\u001B[0m\u001B[1;33m.\u001B[0m\u001B[0mzero_grad\u001B[0m\u001B[1;33m(\u001B[0m\u001B[1;33m)\u001B[0m\u001B[1;33m\u001B[0m\u001B[1;33m\u001B[0m\u001B[0m\n\u001B[1;32m---> 72\u001B[1;33m         \u001B[0mloss\u001B[0m\u001B[1;33m.\u001B[0m\u001B[0mbackward\u001B[0m\u001B[1;33m(\u001B[0m\u001B[1;33m)\u001B[0m\u001B[1;33m\u001B[0m\u001B[1;33m\u001B[0m\u001B[0m\n\u001B[0m\u001B[0;32m     73\u001B[0m         \u001B[0moptimizer\u001B[0m\u001B[1;33m.\u001B[0m\u001B[0mstep\u001B[0m\u001B[1;33m(\u001B[0m\u001B[1;33m)\u001B[0m\u001B[1;33m\u001B[0m\u001B[1;33m\u001B[0m\u001B[0m\n\u001B[0;32m     74\u001B[0m \u001B[1;33m\u001B[0m\u001B[0m\n",
      "\u001B[1;32m~\\AppData\\Roaming\\Python\\Python38\\site-packages\\torch\\nn\\modules\\module.py\u001B[0m in \u001B[0;36m__getattr__\u001B[1;34m(self, name)\u001B[0m\n\u001B[0;32m   1128\u001B[0m             \u001B[1;32mif\u001B[0m \u001B[0mname\u001B[0m \u001B[1;32min\u001B[0m \u001B[0mmodules\u001B[0m\u001B[1;33m:\u001B[0m\u001B[1;33m\u001B[0m\u001B[1;33m\u001B[0m\u001B[0m\n\u001B[0;32m   1129\u001B[0m                 \u001B[1;32mreturn\u001B[0m \u001B[0mmodules\u001B[0m\u001B[1;33m[\u001B[0m\u001B[0mname\u001B[0m\u001B[1;33m]\u001B[0m\u001B[1;33m\u001B[0m\u001B[1;33m\u001B[0m\u001B[0m\n\u001B[1;32m-> 1130\u001B[1;33m         raise AttributeError(\"'{}' object has no attribute '{}'\".format(\n\u001B[0m\u001B[0;32m   1131\u001B[0m             type(self).__name__, name))\n\u001B[0;32m   1132\u001B[0m \u001B[1;33m\u001B[0m\u001B[0m\n",
      "\u001B[1;31mAttributeError\u001B[0m: 'RBF_Layer' object has no attribute 'backward'"
     ]
    }
   ],
   "source": [
    "from torch import nn\n",
    "from torch.autograd import Variable\n",
    "import torch\n",
    "import torch.nn.functional as F\n",
    "import math\n",
    "# Try to build my own layer.\n",
    "\n",
    "# declare function f(x,y)\n",
    "def f(x,y):\n",
    "    return math.sin(x)+2*y**2\n",
    "\n",
    "class RBF_Layer(nn.Module):\n",
    "    def __init__(self, n_input):\n",
    "        # nn.Module child class函數需在構造函數中執行parent class之構造函數\n",
    "        super(RBF_Layer, self).__init__()\n",
    "        self.n_input = n_input\n",
    "        self.weights = nn.Parameter(torch.Tensor(n_input))\n",
    "        self.reset_parameters()\n",
    "\n",
    "    def reset_parameters(self):\n",
    "        self.weights.data.uniform_(0, 1)\n",
    "\n",
    "    def forward(self, input, mean_vector, covariance_matrix):\n",
    "        result = torch.Tensor(multivariate_normal(input, mean_vector[0], covariance_matrix))\n",
    "        return result\n",
    "\n",
    "# 先試著寫一個 forward function\n",
    "class NETWORK(nn.Module):\n",
    "    def __init__(self, n_input, n_hidden, n_output, mean_vector, covariance_matrix):\n",
    "        super(NETWORK, self).__init__()\n",
    "        # self.params = nn.Parameter(torch.rand(2,1))\n",
    "        self.n_input = n_input\n",
    "        self.RBF_Layer = RBF_Layer(n_input)\n",
    "        # self.linear1 = torch.nn.Linear(n_input, n_hidden)\n",
    "        # self.linear2 = torch.nn.Linear(n_hidden, n_output)\n",
    "\n",
    "    def forward(self, x, mean_vector, covariance_matrix):\n",
    "        # x = torch.mm(x, self.params)\n",
    "        y = RBF_Layer(x)\n",
    "        # x = self.linear1(x)\n",
    "        return y\n",
    "\n",
    "network = NETWORK(1, AMOUNT_OF_CENTERS, 1, mean_vector, covariance_matrix)\n",
    "loss_function = nn.MSELoss()\n",
    "# optimizer = torch.optim.SGD(network.parameters(), lr = 1e-2)\n",
    "optimizer = torch.optim.Adadelta(network.parameters(), lr = 0.2)\n",
    "\n",
    "total_train_step = 0\n",
    "train_data = Variable(torch.Tensor(data))\n",
    "\n",
    "EPOCH = 2000\n",
    "PRINT_FREQUENCY = 100\n",
    "use_input_normalization = 1\n",
    "\n",
    "if (use_input_normalization==1):\n",
    "    std = np.linalg.norm(train_data)\n",
    "    train_data = train_data/std\n",
    "\n",
    "for epoch in range(1,EPOCH+1):\n",
    "    if(epoch % PRINT_FREQUENCY == 0):\n",
    "        print(f\"===EPOCH:{epoch}===\")\n",
    "    total_train_loss = 0\n",
    "    network.train()\n",
    "    for i in range(len(data[1])):\n",
    "        inputs = train_data[:,i]\n",
    "        outputs = network(inputs, mean_vector, covariance_matrix)\n",
    "        #print(f'outputs: {outputs}')\n",
    "\n",
    "        #print(f'targets: {targets}')\n",
    "        loss = outputs\n",
    "        optimizer.zero_grad()\n",
    "        loss.backward()\n",
    "        optimizer.step()\n",
    "\n",
    "        total_train_step += 1\n",
    "        total_train_loss += loss\n",
    "    if(epoch % PRINT_FREQUENCY ==0):\n",
    "        print(f'Loss of train dataset: {total_train_loss}')\n"
   ],
   "metadata": {
    "collapsed": false,
    "pycharm": {
     "name": "#%%\n"
    }
   }
  },
  {
   "cell_type": "code",
   "execution_count": 5,
   "outputs": [
    {
     "data": {
      "text/plain": "        ID   t0-date  t0-hour   t1-date  t1-hour  t1-WIND_DIREC  t1-CH4  \\\n0        0   2014116        0   2014115       23           90.0     1.7   \n1        1   2014116        1   2014116        0          120.0     1.7   \n2        2   2014116        2   2014116        1           88.0     1.7   \n3        3   2014116        3   2014116        2           80.0     1.7   \n4        4   2014116        4   2014116        3           26.0     1.8   \n...    ...       ...      ...       ...      ...            ...     ...   \n1435  1435  20141220       19  20141220       18          121.0     1.8   \n1436  1436  20141220       20  20141220       19           97.0     1.8   \n1437  1437  20141220       21  20141220       20          107.0     1.8   \n1438  1438  20141220       22  20141220       21          118.0     1.8   \n1439  1439  20141220       23  20141220       22          100.0     1.8   \n\n      t1-NMHC  t1-CO  t1-RH  ...  t9-THC  t9-NO  t9-WS_HR  t9-AMB_TEMP  \\\n0        0.09   0.22     59  ...     1.8    0.7       0.4         18.0   \n1        0.07   0.24     64  ...     1.9    1.0       0.8         17.0   \n2        0.06   0.22     65  ...     1.9    0.5       1.1         15.0   \n3        0.05   0.21     64  ...     2.0    0.4       1.0         14.0   \n4        0.10   0.23     67  ...     1.9    0.4       1.3         14.0   \n...       ...    ...    ...  ...     ...    ...       ...          ...   \n1435     0.20   0.55     73  ...     1.8    1.9       3.0         15.0   \n1436     0.15   0.48     76  ...     1.8    1.5       2.9         16.0   \n1437     0.16   0.47     80  ...     1.8    1.5       2.7         17.0   \n1438     0.16   0.51     82  ...     1.8    1.3       2.8         18.0   \n1439     0.19   0.57     84  ...     1.8    1.3       1.3         19.0   \n\n      t9-PM10  t9-O3  t9-PM2.5  t9-NOx  t9-NO2  t9-RAINFALL  \n0          47   44.0        13     4.5     3.8          0.0  \n1          51   40.0        14     7.7     6.7          0.0  \n2          55   35.0        18    10.0     9.7          0.0  \n3          56   24.0        20    17.0    17.0          0.0  \n4          41   31.0        25     9.6     9.2          0.0  \n...       ...    ...       ...     ...     ...          ...  \n1435       19   31.0         8     8.9     7.0          0.0  \n1436       25   33.0        10     8.0     6.5          0.0  \n1437       18   34.0         4     7.9     6.4          0.0  \n1438       20   36.0         1     7.0     5.7          0.0  \n1439        8   37.0         1     7.4     6.1          0.0  \n\n[1440 rows x 183 columns]",
      "text/html": "<div>\n<style scoped>\n    .dataframe tbody tr th:only-of-type {\n        vertical-align: middle;\n    }\n\n    .dataframe tbody tr th {\n        vertical-align: top;\n    }\n\n    .dataframe thead th {\n        text-align: right;\n    }\n</style>\n<table border=\"1\" class=\"dataframe\">\n  <thead>\n    <tr style=\"text-align: right;\">\n      <th></th>\n      <th>ID</th>\n      <th>t0-date</th>\n      <th>t0-hour</th>\n      <th>t1-date</th>\n      <th>t1-hour</th>\n      <th>t1-WIND_DIREC</th>\n      <th>t1-CH4</th>\n      <th>t1-NMHC</th>\n      <th>t1-CO</th>\n      <th>t1-RH</th>\n      <th>...</th>\n      <th>t9-THC</th>\n      <th>t9-NO</th>\n      <th>t9-WS_HR</th>\n      <th>t9-AMB_TEMP</th>\n      <th>t9-PM10</th>\n      <th>t9-O3</th>\n      <th>t9-PM2.5</th>\n      <th>t9-NOx</th>\n      <th>t9-NO2</th>\n      <th>t9-RAINFALL</th>\n    </tr>\n  </thead>\n  <tbody>\n    <tr>\n      <th>0</th>\n      <td>0</td>\n      <td>2014116</td>\n      <td>0</td>\n      <td>2014115</td>\n      <td>23</td>\n      <td>90.0</td>\n      <td>1.7</td>\n      <td>0.09</td>\n      <td>0.22</td>\n      <td>59</td>\n      <td>...</td>\n      <td>1.8</td>\n      <td>0.7</td>\n      <td>0.4</td>\n      <td>18.0</td>\n      <td>47</td>\n      <td>44.0</td>\n      <td>13</td>\n      <td>4.5</td>\n      <td>3.8</td>\n      <td>0.0</td>\n    </tr>\n    <tr>\n      <th>1</th>\n      <td>1</td>\n      <td>2014116</td>\n      <td>1</td>\n      <td>2014116</td>\n      <td>0</td>\n      <td>120.0</td>\n      <td>1.7</td>\n      <td>0.07</td>\n      <td>0.24</td>\n      <td>64</td>\n      <td>...</td>\n      <td>1.9</td>\n      <td>1.0</td>\n      <td>0.8</td>\n      <td>17.0</td>\n      <td>51</td>\n      <td>40.0</td>\n      <td>14</td>\n      <td>7.7</td>\n      <td>6.7</td>\n      <td>0.0</td>\n    </tr>\n    <tr>\n      <th>2</th>\n      <td>2</td>\n      <td>2014116</td>\n      <td>2</td>\n      <td>2014116</td>\n      <td>1</td>\n      <td>88.0</td>\n      <td>1.7</td>\n      <td>0.06</td>\n      <td>0.22</td>\n      <td>65</td>\n      <td>...</td>\n      <td>1.9</td>\n      <td>0.5</td>\n      <td>1.1</td>\n      <td>15.0</td>\n      <td>55</td>\n      <td>35.0</td>\n      <td>18</td>\n      <td>10.0</td>\n      <td>9.7</td>\n      <td>0.0</td>\n    </tr>\n    <tr>\n      <th>3</th>\n      <td>3</td>\n      <td>2014116</td>\n      <td>3</td>\n      <td>2014116</td>\n      <td>2</td>\n      <td>80.0</td>\n      <td>1.7</td>\n      <td>0.05</td>\n      <td>0.21</td>\n      <td>64</td>\n      <td>...</td>\n      <td>2.0</td>\n      <td>0.4</td>\n      <td>1.0</td>\n      <td>14.0</td>\n      <td>56</td>\n      <td>24.0</td>\n      <td>20</td>\n      <td>17.0</td>\n      <td>17.0</td>\n      <td>0.0</td>\n    </tr>\n    <tr>\n      <th>4</th>\n      <td>4</td>\n      <td>2014116</td>\n      <td>4</td>\n      <td>2014116</td>\n      <td>3</td>\n      <td>26.0</td>\n      <td>1.8</td>\n      <td>0.10</td>\n      <td>0.23</td>\n      <td>67</td>\n      <td>...</td>\n      <td>1.9</td>\n      <td>0.4</td>\n      <td>1.3</td>\n      <td>14.0</td>\n      <td>41</td>\n      <td>31.0</td>\n      <td>25</td>\n      <td>9.6</td>\n      <td>9.2</td>\n      <td>0.0</td>\n    </tr>\n    <tr>\n      <th>...</th>\n      <td>...</td>\n      <td>...</td>\n      <td>...</td>\n      <td>...</td>\n      <td>...</td>\n      <td>...</td>\n      <td>...</td>\n      <td>...</td>\n      <td>...</td>\n      <td>...</td>\n      <td>...</td>\n      <td>...</td>\n      <td>...</td>\n      <td>...</td>\n      <td>...</td>\n      <td>...</td>\n      <td>...</td>\n      <td>...</td>\n      <td>...</td>\n      <td>...</td>\n      <td>...</td>\n    </tr>\n    <tr>\n      <th>1435</th>\n      <td>1435</td>\n      <td>20141220</td>\n      <td>19</td>\n      <td>20141220</td>\n      <td>18</td>\n      <td>121.0</td>\n      <td>1.8</td>\n      <td>0.20</td>\n      <td>0.55</td>\n      <td>73</td>\n      <td>...</td>\n      <td>1.8</td>\n      <td>1.9</td>\n      <td>3.0</td>\n      <td>15.0</td>\n      <td>19</td>\n      <td>31.0</td>\n      <td>8</td>\n      <td>8.9</td>\n      <td>7.0</td>\n      <td>0.0</td>\n    </tr>\n    <tr>\n      <th>1436</th>\n      <td>1436</td>\n      <td>20141220</td>\n      <td>20</td>\n      <td>20141220</td>\n      <td>19</td>\n      <td>97.0</td>\n      <td>1.8</td>\n      <td>0.15</td>\n      <td>0.48</td>\n      <td>76</td>\n      <td>...</td>\n      <td>1.8</td>\n      <td>1.5</td>\n      <td>2.9</td>\n      <td>16.0</td>\n      <td>25</td>\n      <td>33.0</td>\n      <td>10</td>\n      <td>8.0</td>\n      <td>6.5</td>\n      <td>0.0</td>\n    </tr>\n    <tr>\n      <th>1437</th>\n      <td>1437</td>\n      <td>20141220</td>\n      <td>21</td>\n      <td>20141220</td>\n      <td>20</td>\n      <td>107.0</td>\n      <td>1.8</td>\n      <td>0.16</td>\n      <td>0.47</td>\n      <td>80</td>\n      <td>...</td>\n      <td>1.8</td>\n      <td>1.5</td>\n      <td>2.7</td>\n      <td>17.0</td>\n      <td>18</td>\n      <td>34.0</td>\n      <td>4</td>\n      <td>7.9</td>\n      <td>6.4</td>\n      <td>0.0</td>\n    </tr>\n    <tr>\n      <th>1438</th>\n      <td>1438</td>\n      <td>20141220</td>\n      <td>22</td>\n      <td>20141220</td>\n      <td>21</td>\n      <td>118.0</td>\n      <td>1.8</td>\n      <td>0.16</td>\n      <td>0.51</td>\n      <td>82</td>\n      <td>...</td>\n      <td>1.8</td>\n      <td>1.3</td>\n      <td>2.8</td>\n      <td>18.0</td>\n      <td>20</td>\n      <td>36.0</td>\n      <td>1</td>\n      <td>7.0</td>\n      <td>5.7</td>\n      <td>0.0</td>\n    </tr>\n    <tr>\n      <th>1439</th>\n      <td>1439</td>\n      <td>20141220</td>\n      <td>23</td>\n      <td>20141220</td>\n      <td>22</td>\n      <td>100.0</td>\n      <td>1.8</td>\n      <td>0.19</td>\n      <td>0.57</td>\n      <td>84</td>\n      <td>...</td>\n      <td>1.8</td>\n      <td>1.3</td>\n      <td>1.3</td>\n      <td>19.0</td>\n      <td>8</td>\n      <td>37.0</td>\n      <td>1</td>\n      <td>7.4</td>\n      <td>6.1</td>\n      <td>0.0</td>\n    </tr>\n  </tbody>\n</table>\n<p>1440 rows × 183 columns</p>\n</div>"
     },
     "execution_count": 5,
     "metadata": {},
     "output_type": "execute_result"
    }
   ],
   "source": [
    "import pandas as pd\n",
    "\n",
    "x_train=pd.read_csv(\"dataset/PM25/test_X.txt\", sep=\"\\t\",header=0)\n",
    "x_train"
   ],
   "metadata": {
    "collapsed": false,
    "pycharm": {
     "name": "#%%\n"
    }
   }
  }
 ],
 "metadata": {
  "kernelspec": {
   "display_name": "Python 3",
   "language": "python",
   "name": "python3"
  },
  "language_info": {
   "codemirror_mode": {
    "name": "ipython",
    "version": 2
   },
   "file_extension": ".py",
   "mimetype": "text/x-python",
   "name": "python",
   "nbconvert_exporter": "python",
   "pygments_lexer": "ipython2",
   "version": "2.7.6"
  }
 },
 "nbformat": 4,
 "nbformat_minor": 0
}