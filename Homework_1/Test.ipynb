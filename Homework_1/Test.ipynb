{
 "cells": [
  {
   "cell_type": "code",
   "execution_count": null,
   "metadata": {
    "collapsed": true
   },
   "outputs": [],
   "source": [
    "print(torch.cuda.is_available())\n",
    "A = np.array([[1,2,3],[4,5,6]])\n",
    "print(A[:,0])\n",
    "number_of_rows = A.shape[0]\n",
    "print(number_of_rows)\n",
    "random_indicies = np.random.choice(number_of_rows, size=1, replace=False)\n",
    "print(random_indicies)\n",
    "random_rows = A[random_indicies,:]\n",
    "print(random_rows)\n",
    "print(random_rows.shape)"
   ]
  },
  {
   "cell_type": "code",
   "execution_count": null,
   "outputs": [],
   "source": [
    "A = np.array([[1,2,3],[4,5,6]])\n",
    "print(A.shape)\n",
    "B = np.array([7,8,9])\n",
    "print(B.shape)\n",
    "C = np.vstack((A, B))\n",
    "print(C)\n",
    "X, Y = np.hsplit(C, [2])\n",
    "print(X, Y)\n",
    "print(X.shape)\n",
    "print(Y.shape)\n",
    "Y = np.squeeze(Y)\n",
    "print(Y.shape)"
   ],
   "metadata": {
    "collapsed": false,
    "pycharm": {
     "name": "#%%\n"
    }
   }
  }
 ],
 "metadata": {
  "kernelspec": {
   "display_name": "Python 3",
   "language": "python",
   "name": "python3"
  },
  "language_info": {
   "codemirror_mode": {
    "name": "ipython",
    "version": 2
   },
   "file_extension": ".py",
   "mimetype": "text/x-python",
   "name": "python",
   "nbconvert_exporter": "python",
   "pygments_lexer": "ipython2",
   "version": "2.7.6"
  }
 },
 "nbformat": 4,
 "nbformat_minor": 0
}