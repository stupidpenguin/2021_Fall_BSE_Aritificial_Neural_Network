{
 "cells": [
  {
   "cell_type": "markdown",
   "metadata": {
    "collapsed": true,
    "pycharm": {
     "name": "#%% md\n"
    }
   },
   "source": [
    "---\n",
    "##### 8. 延伸例題4.7改變模擬函數，如下所示：\n",
    "$f(x,y) = \\text{sin }x+2y^2$, where  $\\text{x, y}\\in(1,10)$\n",
    "\n",
    "    (a) 產生三組資料群..."
   ]
  },
  {
   "cell_type": "code",
   "execution_count": null,
   "outputs": [],
   "source": [
    "import math\n",
    "import numpy as np\n",
    "\n",
    "# declare function f(x,y)\n",
    "def f(x,y):\n",
    "    return math.sin(x)+2*y**2\n",
    "\n",
    "# create training data matrix included 300 vectors of dimension 2.\n",
    "train_data = np.random.uniform(low=1, high=10, size=(2,300))\n",
    "\n",
    "# create training data matrix included 300 vectors of dimension 2.\n",
    "validation_data = np.random.uniform(low=1, high=10, size=(2,100))\n",
    "\n",
    "# create training data matrix included 300 vectors of dimension 2.\n",
    "test_data = np.random.uniform(low=1, high=10, size=(2,100))\n",
    "\n",
    "print(train_data.shape)\n",
    "for i in range(5):\n",
    "    print(train_data[:,i])\n",
    "print(train_data[:,0].shape)"
   ],
   "metadata": {
    "collapsed": false,
    "pycharm": {
     "name": "#%%\n"
    }
   }
  },
  {
   "cell_type": "markdown",
   "source": [
    "###### plot the dots of training/validation/testing data scattered in space separately."
   ],
   "metadata": {
    "collapsed": false
   }
  },
  {
   "cell_type": "code",
   "execution_count": null,
   "outputs": [],
   "source": [
    "import matplotlib.pyplot as plt\n",
    "\n",
    "fig = plt.figure(figsize=(15,12))\n",
    "ax1 = fig.add_subplot(131, projection='3d')\n",
    "\n",
    "train_value = []; validation_value = []; test_value = []\n",
    "\n",
    "for i in range(len(train_data[0,:])):\n",
    "    train_value.append(f(train_data[0,i], train_data[1,i]))\n",
    "\n",
    "xs = train_data[0,:]; ys = train_data[1,:]; zs = train_value\n",
    "ax1.scatter(xs, ys, zs)\n",
    "ax1.set_xlabel('X Label')\n",
    "ax1.set_ylabel('Y Label')\n",
    "ax1.set_zlabel('Z Label')\n",
    "ax1.set_title('train data')\n",
    "\n",
    "ax2 = fig.add_subplot(132, projection='3d')\n",
    "for i in range(len(validation_data[0,:])):\n",
    "    validation_value.append(f(validation_data[0,i], validation_data[1,i]))\n",
    "xs = validation_data[0,:]; ys = validation_data[1,:]; zs = validation_value\n",
    "ax2.scatter(xs, ys, zs)\n",
    "ax2.set_xlabel('X Label')\n",
    "ax2.set_ylabel('Y Label')\n",
    "ax2.set_zlabel('Z Label')\n",
    "ax2.set_title('validation data')\n",
    "\n",
    "ax3 = fig.add_subplot(133, projection='3d')\n",
    "for i in range(len(test_data[0,:])):\n",
    "    test_value.append(f(test_data[0,i], test_data[1,i]))\n",
    "xs = test_data[0,:]; ys = test_data[1,:]; zs = test_value\n",
    "ax3.scatter(xs, ys, zs)\n",
    "ax3.set_xlabel('X Label')\n",
    "ax3.set_ylabel('Y Label')\n",
    "ax3.set_zlabel('Z Label')\n",
    "ax3.set_title('test data')\n",
    "\n",
    "plt.show()"
   ],
   "metadata": {
    "collapsed": false,
    "pycharm": {
     "name": "#%%\n"
    }
   }
  },
  {
   "cell_type": "markdown",
   "source": [
    "---\n",
    "(b) 以類神經網路來訓練、測試及推估函數"
   ],
   "metadata": {
    "collapsed": false
   }
  },
  {
   "cell_type": "code",
   "execution_count": null,
   "outputs": [],
   "source": [
    "import torch\n",
    "from torch.autograd import Variable\n",
    "from torch import nn\n",
    "from torch.nn import Conv2d, MaxPool2d, Flatten, Linear, Sequential\n",
    "import torch.nn.functional as F\n",
    "import torch.utils.data as Data\n",
    "\n",
    "import matplotlib.pyplot as plt\n",
    "%matplotlib inline\n",
    "\n",
    "import numpy as np\n",
    "import imageio\n",
    "\n",
    "train_data = Variable(train_data)\n",
    "train_value = Variable(train_value)\n",
    "\n",
    "# Define Neural Network\n",
    "class NETWORK(nn.Module):\n",
    "    def __init__(self):\n",
    "        super(NETWORK, self).__init__()\n",
    "        self.model1 = Sequential(\n",
    "            nn.Linear(2,5),\n",
    "            nn.Linear(5,1)\n",
    "        )\n",
    "    def forward(self, x):\n",
    "        x = self.model1(x)\n",
    "        return x\n",
    "\n",
    "network = NETWORK()"
   ],
   "metadata": {
    "collapsed": false,
    "pycharm": {
     "name": "#%%\n"
    }
   }
  }
 ],
 "metadata": {
  "kernelspec": {
   "display_name": "Python 3",
   "language": "python",
   "name": "python3"
  },
  "language_info": {
   "codemirror_mode": {
    "name": "ipython",
    "version": 2
   },
   "file_extension": ".py",
   "mimetype": "text/x-python",
   "name": "python",
   "nbconvert_exporter": "python",
   "pygments_lexer": "ipython2",
   "version": "2.7.6"
  }
 },
 "nbformat": 4,
 "nbformat_minor": 0
}